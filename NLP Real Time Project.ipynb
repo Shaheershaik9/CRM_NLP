{
 "cells": [
  {
   "cell_type": "code",
   "execution_count": 1,
   "id": "7814fa03",
   "metadata": {},
   "outputs": [],
   "source": [
    "import pandas as pd\n",
    "import numpy as np\n",
    "import matplotlib.pyplot as plt\n",
    "import seaborn as sns\n",
    "%matplotlib inline"
   ]
  },
  {
   "cell_type": "code",
   "execution_count": 2,
   "id": "316ade29",
   "metadata": {},
   "outputs": [
    {
     "data": {
      "text/html": [
       "<div>\n",
       "<style scoped>\n",
       "    .dataframe tbody tr th:only-of-type {\n",
       "        vertical-align: middle;\n",
       "    }\n",
       "\n",
       "    .dataframe tbody tr th {\n",
       "        vertical-align: top;\n",
       "    }\n",
       "\n",
       "    .dataframe thead th {\n",
       "        text-align: right;\n",
       "    }\n",
       "</style>\n",
       "<table border=\"1\" class=\"dataframe\">\n",
       "  <thead>\n",
       "    <tr style=\"text-align: right;\">\n",
       "      <th></th>\n",
       "      <th>Lead Name</th>\n",
       "      <th>Location</th>\n",
       "      <th>Status</th>\n",
       "      <th>Status information</th>\n",
       "    </tr>\n",
       "  </thead>\n",
       "  <tbody>\n",
       "    <tr>\n",
       "      <th>0</th>\n",
       "      <td>Raja</td>\n",
       "      <td>hyderabad</td>\n",
       "      <td>Not Converted</td>\n",
       "      <td>14/8/prema: share me details, available in evn...</td>\n",
       "    </tr>\n",
       "    <tr>\n",
       "      <th>1</th>\n",
       "      <td>Anirudh Reddy</td>\n",
       "      <td>pune</td>\n",
       "      <td>Not Converted</td>\n",
       "      <td>14/8/prema: cal me tmrw, shared details to ema...</td>\n",
       "    </tr>\n",
       "    <tr>\n",
       "      <th>2</th>\n",
       "      <td>Sapna Dewani</td>\n",
       "      <td>bangalore</td>\n",
       "      <td>Converted</td>\n",
       "      <td>16|AuG|moHan:rnr</td>\n",
       "    </tr>\n",
       "    <tr>\n",
       "      <th>3</th>\n",
       "      <td>suresh</td>\n",
       "      <td>mumbai</td>\n",
       "      <td>Not Converted</td>\n",
       "      <td>14/8/17(Surendra):i want only Server 16|AuG|mo...</td>\n",
       "    </tr>\n",
       "    <tr>\n",
       "      <th>4</th>\n",
       "      <td>Akshay Shinde</td>\n",
       "      <td>hyderabad</td>\n",
       "      <td>Not Converted</td>\n",
       "      <td>14/8/prema:rnr 16/8/prema: gave info, he said ...</td>\n",
       "    </tr>\n",
       "  </tbody>\n",
       "</table>\n",
       "</div>"
      ],
      "text/plain": [
       "       Lead Name   Location        Status   \\\n",
       "0           Raja  hyderabad  Not Converted   \n",
       "1  Anirudh Reddy       pune  Not Converted   \n",
       "2   Sapna Dewani  bangalore     Converted    \n",
       "3         suresh     mumbai  Not Converted   \n",
       "4  Akshay Shinde  hyderabad  Not Converted   \n",
       "\n",
       "                                  Status information  \n",
       "0  14/8/prema: share me details, available in evn...  \n",
       "1  14/8/prema: cal me tmrw, shared details to ema...  \n",
       "2                                   16|AuG|moHan:rnr  \n",
       "3  14/8/17(Surendra):i want only Server 16|AuG|mo...  \n",
       "4  14/8/prema:rnr 16/8/prema: gave info, he said ...  "
      ]
     },
     "execution_count": 2,
     "metadata": {},
     "output_type": "execute_result"
    }
   ],
   "source": [
    "data=pd.read_excel(\"1000 leads.xlsx\")\n",
    "data.head()"
   ]
  },
  {
   "cell_type": "code",
   "execution_count": 3,
   "id": "70d93cdc",
   "metadata": {},
   "outputs": [
    {
     "data": {
      "text/plain": [
       "(1001, 4)"
      ]
     },
     "execution_count": 3,
     "metadata": {},
     "output_type": "execute_result"
    }
   ],
   "source": [
    "data.shape\n"
   ]
  },
  {
   "cell_type": "code",
   "execution_count": 4,
   "id": "a2f418da",
   "metadata": {},
   "outputs": [
    {
     "name": "stdout",
     "output_type": "stream",
     "text": [
      "<class 'pandas.core.frame.DataFrame'>\n",
      "RangeIndex: 1001 entries, 0 to 1000\n",
      "Data columns (total 4 columns):\n",
      " #   Column              Non-Null Count  Dtype \n",
      "---  ------              --------------  ----- \n",
      " 0   Lead Name           1001 non-null   object\n",
      " 1   Location            980 non-null    object\n",
      " 2   Status              998 non-null    object\n",
      " 3   Status information  977 non-null    object\n",
      "dtypes: object(4)\n",
      "memory usage: 31.4+ KB\n"
     ]
    }
   ],
   "source": [
    "data.info()"
   ]
  },
  {
   "cell_type": "code",
   "execution_count": 5,
   "id": "a76c22df",
   "metadata": {},
   "outputs": [
    {
     "data": {
      "text/plain": [
       "Lead Name              0\n",
       "Location              21\n",
       "Status                 3\n",
       "Status information    24\n",
       "dtype: int64"
      ]
     },
     "execution_count": 5,
     "metadata": {},
     "output_type": "execute_result"
    }
   ],
   "source": [
    "# checking for null values\n",
    "data.isnull().sum()"
   ]
  },
  {
   "cell_type": "code",
   "execution_count": 6,
   "id": "e38b93a0",
   "metadata": {},
   "outputs": [
    {
     "data": {
      "text/plain": [
       "0"
      ]
     },
     "execution_count": 6,
     "metadata": {},
     "output_type": "execute_result"
    }
   ],
   "source": [
    "# checkig for duplicate values\n",
    "data.duplicated().sum()"
   ]
  },
  {
   "cell_type": "markdown",
   "id": "73f52e31",
   "metadata": {},
   "source": [
    "# EDA"
   ]
  },
  {
   "cell_type": "code",
   "execution_count": 7,
   "id": "1c51efa5",
   "metadata": {},
   "outputs": [
    {
     "data": {
      "text/plain": [
       "Index(['Lead Name', 'Location', 'Status ', 'Status information'], dtype='object')"
      ]
     },
     "execution_count": 7,
     "metadata": {},
     "output_type": "execute_result"
    }
   ],
   "source": [
    "data.columns\n"
   ]
  },
  {
   "cell_type": "code",
   "execution_count": 8,
   "id": "350fd6e6",
   "metadata": {},
   "outputs": [
    {
     "data": {
      "text/plain": [
       "Not Converted    856\n",
       "Converted        124\n",
       "NOt Converted     11\n",
       "Conveted           7\n",
       "Name: Status , dtype: int64"
      ]
     },
     "execution_count": 8,
     "metadata": {},
     "output_type": "execute_result"
    }
   ],
   "source": [
    "data['Status '].value_counts()"
   ]
  },
  {
   "cell_type": "code",
   "execution_count": 9,
   "id": "473f5e62",
   "metadata": {},
   "outputs": [
    {
     "data": {
      "text/plain": [
       "array(['Not Converted', 'Converted ', 'NOt Converted', nan, 'Conveted'],\n",
       "      dtype=object)"
      ]
     },
     "execution_count": 9,
     "metadata": {},
     "output_type": "execute_result"
    }
   ],
   "source": [
    " data['Status '].unique()"
   ]
  },
  {
   "cell_type": "code",
   "execution_count": 10,
   "id": "ed3b16f3",
   "metadata": {},
   "outputs": [
    {
     "data": {
      "text/plain": [
       "Not Converted    867\n",
       "Converted        131\n",
       "Name: Status , dtype: int64"
      ]
     },
     "execution_count": 10,
     "metadata": {},
     "output_type": "execute_result"
    }
   ],
   "source": [
    "data['Status '].replace({\"NOt Converted\": \"Not Converted\", \"Conveted\": \"Converted \"}, inplace=True)\n",
    "data['Status '].value_counts()"
   ]
  },
  {
   "cell_type": "markdown",
   "id": "78eee2a7",
   "metadata": {},
   "source": [
    "Data is imbalanced, we gotta balance it"
   ]
  },
  {
   "cell_type": "code",
   "execution_count": 11,
   "id": "fe6b458b",
   "metadata": {},
   "outputs": [
    {
     "data": {
      "text/plain": [
       "878"
      ]
     },
     "execution_count": 11,
     "metadata": {},
     "output_type": "execute_result"
    }
   ],
   "source": [
    "# lead name\n",
    "len(data[\"Lead Name\"].unique())"
   ]
  },
  {
   "cell_type": "code",
   "execution_count": 12,
   "id": "297ef11a",
   "metadata": {},
   "outputs": [
    {
     "data": {
      "image/png": "[encoded data removed]",
      "text/plain": [
       "<Figure size 1440x540 with 1 Axes>"
      ]
     },
     "metadata": {},
     "output_type": "display_data"
    }
   ],
   "source": [
    "plt.figure(figsize=(16,6), dpi=90)\n",
    "sns.countplot(data=data, x=\"Location\")\n",
    "plt.xticks(rotation=\"vertical\")\n",
    "plt.show()"
   ]
  },
  {
   "cell_type": "markdown",
   "id": "b4706bd1",
   "metadata": {},
   "source": [
    "Fixing the null values in location with mode\n"
   ]
  },
  {
   "cell_type": "code",
   "execution_count": 13,
   "id": "ffdc97ec",
   "metadata": {},
   "outputs": [],
   "source": [
    "data.loc[data[\"Location\"].isnull(), \"Location\"] = data[\"Location\"].mode()[0]"
   ]
  },
  {
   "cell_type": "code",
   "execution_count": 14,
   "id": "be215e73",
   "metadata": {},
   "outputs": [
    {
     "data": {
      "text/plain": [
       "'bangalore'"
      ]
     },
     "execution_count": 14,
     "metadata": {},
     "output_type": "execute_result"
    }
   ],
   "source": [
    "data[\"Location\"].mode()[0]"
   ]
  },
  {
   "cell_type": "code",
   "execution_count": 15,
   "id": "44240427",
   "metadata": {},
   "outputs": [],
   "source": [
    "# lower casing the location column\n",
    "data[\"Location\"] = data[\"Location\"].apply(lambda x: x.lower())"
   ]
  },
  {
   "cell_type": "code",
   "execution_count": 16,
   "id": "75f58686",
   "metadata": {},
   "outputs": [],
   "source": [
    "# fetching country function\n",
    "def country(x):\n",
    "  if x == \"australia\":\n",
    "    return \"australia\"\n",
    "  elif x == \"usa\":\n",
    "    return \"usa\"\n",
    "  elif x == \"uae\":\n",
    "    return \"uae\"\n",
    "  else:\n",
    "    return \"india\""
   ]
  },
  {
   "cell_type": "code",
   "execution_count": 17,
   "id": "12cbe461",
   "metadata": {},
   "outputs": [],
   "source": [
    "data[\"Country\"] = data[\"Location\"].apply(country)"
   ]
  },
  {
   "cell_type": "code",
   "execution_count": 18,
   "id": "b4397cdc",
   "metadata": {},
   "outputs": [
    {
     "data": {
      "image/png": "[encoded data removed]",
      "text/plain": [
       "<Figure size 640x480 with 1 Axes>"
      ]
     },
     "metadata": {},
     "output_type": "display_data"
    }
   ],
   "source": [
    "sns.countplot(data=data, x=\"Country\",hue=\"Status \")\n",
    "plt.legend(loc=\"upper right\")\n",
    "plt.xticks(rotation=\"vertical\")\n",
    "plt.show()"
   ]
  },
  {
   "cell_type": "code",
   "execution_count": 19,
   "id": "f555bc8a",
   "metadata": {},
   "outputs": [
    {
     "data": {
      "image/png": "[encoded data removed]",
      "text/plain": [
       "<Figure size 1440x540 with 1 Axes>"
      ]
     },
     "metadata": {},
     "output_type": "display_data"
    }
   ],
   "source": [
    "# lets find out what locations have more num of converted/non converted rate\n",
    "plt.figure(figsize=(16,6), dpi=90)\n",
    "sns.countplot(data=data, x=\"Location\", hue=\"Status \")\n",
    "plt.xticks(rotation=\"vertical\")\n",
    "plt.legend(loc=\"upper right\")\n",
    "plt.show()"
   ]
  },
  {
   "cell_type": "code",
   "execution_count": 20,
   "id": "65ec1d17",
   "metadata": {},
   "outputs": [
    {
     "data": {
      "text/html": [
       "<div>\n",
       "<style scoped>\n",
       "    .dataframe tbody tr th:only-of-type {\n",
       "        vertical-align: middle;\n",
       "    }\n",
       "\n",
       "    .dataframe tbody tr th {\n",
       "        vertical-align: top;\n",
       "    }\n",
       "\n",
       "    .dataframe thead th {\n",
       "        text-align: right;\n",
       "    }\n",
       "</style>\n",
       "<table border=\"1\" class=\"dataframe\">\n",
       "  <thead>\n",
       "    <tr style=\"text-align: right;\">\n",
       "      <th></th>\n",
       "      <th>Lead Name</th>\n",
       "      <th>Location</th>\n",
       "      <th>Status</th>\n",
       "      <th>Status information</th>\n",
       "      <th>Country</th>\n",
       "    </tr>\n",
       "  </thead>\n",
       "  <tbody>\n",
       "    <tr>\n",
       "      <th>0</th>\n",
       "      <td>Raja</td>\n",
       "      <td>hyderabad</td>\n",
       "      <td>Not Converted</td>\n",
       "      <td>14/8/prema: share me details, available in evn...</td>\n",
       "      <td>india</td>\n",
       "    </tr>\n",
       "    <tr>\n",
       "      <th>1</th>\n",
       "      <td>Anirudh Reddy</td>\n",
       "      <td>pune</td>\n",
       "      <td>Not Converted</td>\n",
       "      <td>14/8/prema: cal me tmrw, shared details to ema...</td>\n",
       "      <td>india</td>\n",
       "    </tr>\n",
       "    <tr>\n",
       "      <th>2</th>\n",
       "      <td>Sapna Dewani</td>\n",
       "      <td>bangalore</td>\n",
       "      <td>Converted</td>\n",
       "      <td>16|AuG|moHan:rnr</td>\n",
       "      <td>india</td>\n",
       "    </tr>\n",
       "    <tr>\n",
       "      <th>3</th>\n",
       "      <td>suresh</td>\n",
       "      <td>mumbai</td>\n",
       "      <td>Not Converted</td>\n",
       "      <td>14/8/17(Surendra):i want only Server 16|AuG|mo...</td>\n",
       "      <td>india</td>\n",
       "    </tr>\n",
       "    <tr>\n",
       "      <th>4</th>\n",
       "      <td>Akshay Shinde</td>\n",
       "      <td>hyderabad</td>\n",
       "      <td>Not Converted</td>\n",
       "      <td>14/8/prema:rnr 16/8/prema: gave info, he said ...</td>\n",
       "      <td>india</td>\n",
       "    </tr>\n",
       "  </tbody>\n",
       "</table>\n",
       "</div>"
      ],
      "text/plain": [
       "       Lead Name   Location        Status   \\\n",
       "0           Raja  hyderabad  Not Converted   \n",
       "1  Anirudh Reddy       pune  Not Converted   \n",
       "2   Sapna Dewani  bangalore     Converted    \n",
       "3         suresh     mumbai  Not Converted   \n",
       "4  Akshay Shinde  hyderabad  Not Converted   \n",
       "\n",
       "                                  Status information Country  \n",
       "0  14/8/prema: share me details, available in evn...   india  \n",
       "1  14/8/prema: cal me tmrw, shared details to ema...   india  \n",
       "2                                   16|AuG|moHan:rnr   india  \n",
       "3  14/8/17(Surendra):i want only Server 16|AuG|mo...   india  \n",
       "4  14/8/prema:rnr 16/8/prema: gave info, he said ...   india  "
      ]
     },
     "execution_count": 20,
     "metadata": {},
     "output_type": "execute_result"
    }
   ],
   "source": [
    "data.head()"
   ]
  },
  {
   "cell_type": "code",
   "execution_count": 21,
   "id": "9df78a2a",
   "metadata": {},
   "outputs": [
    {
     "data": {
      "text/plain": [
       "24"
      ]
     },
     "execution_count": 21,
     "metadata": {},
     "output_type": "execute_result"
    }
   ],
   "source": [
    "data['Status information'].isnull().sum()"
   ]
  },
  {
   "cell_type": "code",
   "execution_count": 27,
   "id": "8f836158",
   "metadata": {},
   "outputs": [],
   "source": [
    "#we will drop the row which will have null textual data\n",
    "data.dropna(inplace=True)"
   ]
  },
  {
   "cell_type": "code",
   "execution_count": 28,
   "id": "952a95c5",
   "metadata": {},
   "outputs": [
    {
     "data": {
      "text/plain": [
       "Lead Name             0\n",
       "Location              0\n",
       "Status                0\n",
       "Status information    0\n",
       "Country               0\n",
       "dtype: int64"
      ]
     },
     "execution_count": 28,
     "metadata": {},
     "output_type": "execute_result"
    }
   ],
   "source": [
    "data.isnull().sum()"
   ]
  },
  {
   "cell_type": "code",
   "execution_count": 29,
   "id": "7ddd6747",
   "metadata": {},
   "outputs": [],
   "source": [
    "data[\"num_char\"]=data['Status information'].apply(lambda x: len(x))"
   ]
  },
  {
   "cell_type": "code",
   "execution_count": 36,
   "id": "0bcddb84",
   "metadata": {},
   "outputs": [
    {
     "data": {
      "text/plain": [
       "<Figure size 1440x540 with 0 Axes>"
      ]
     },
     "metadata": {},
     "output_type": "display_data"
    },
    {
     "data": {
      "image/png": "[encoded data removed]",
      "text/plain": [
       "<Figure size 751.125x500 with 1 Axes>"
      ]
     },
     "metadata": {},
     "output_type": "display_data"
    }
   ],
   "source": [
    "plt.figure(figsize=(16,6),dpi=90)\n",
    "sns.displot(data=data, x=\"num_char\",hue=\"Status \",aspect=1.2)\n",
    "plt.show()"
   ]
  },
  {
   "cell_type": "code",
   "execution_count": 37,
   "id": "39ceea79",
   "metadata": {},
   "outputs": [],
   "source": [
    "# lets try to find the num of words per converstation\n",
    "import nltk"
   ]
  },
  {
   "cell_type": "code",
   "execution_count": 38,
   "id": "331bd855",
   "metadata": {},
   "outputs": [
    {
     "name": "stderr",
     "output_type": "stream",
     "text": [
      "[nltk_data] Downloading package punkt to\n",
      "[nltk_data]     C:\\Users\\shahe\\AppData\\Roaming\\nltk_data...\n",
      "[nltk_data]   Unzipping tokenizers\\punkt.zip.\n"
     ]
    },
    {
     "data": {
      "text/plain": [
       "True"
      ]
     },
     "execution_count": 38,
     "metadata": {},
     "output_type": "execute_result"
    }
   ],
   "source": [
    "nltk.download(\"punkt\")"
   ]
  },
  {
   "cell_type": "code",
   "execution_count": 40,
   "id": "02d703ed",
   "metadata": {},
   "outputs": [
    {
     "name": "stdout",
     "output_type": "stream",
     "text": [
      "14/8/prema: share me details, available in evng 18/8/prema: postponed the plans for training currently 9/11/prema: not interested now\n",
      "14/8/prema: cal me tmrw, shared details to email 16/8/prema: share details to email, will check n revert 18/8/prema: received your email, i'm looking for ASQ certification\n",
      "16|AuG|moHan:rnr\n",
      "14/8/17(Surendra):i want only Server 16|AuG|moHan:cal busy 17|AuG|moHan:reg for server\n",
      "14/8/prema:rnr 16/8/prema: gave info, he said he will revert in 1hr 30/8/prema: planning for next month, share details\n",
      "12/8/17(Surendra):i will check demo(attended demo) 14/8/17(Surendra):i will get back 17/8/17(Surendra):i will think and respond 23/11/17(Surendra):not interested\n",
      "14/8/17(Surendra):asking code\n",
      "11|aUg|moHan:mail shred for ML Tensorflow corprt 16|AuG|moHan:shared but rnr\n",
      "11|AuG|moHan:askng code\n",
      "11/8/prema: RNR 11/8/prema: share me tableau recorded session check n revert 12/8/prema: not reachable 14/8/prema: RNR 16/8/prema: have rotational shifts, will check details n confirm 17/8/prema: rnr 17/8/surendra: i will confirm by tmrw 18/8/prema: rnr 22/8/prema: share me details of webinar on 23rd\n",
      "11/8/prema: call me @ 5pm 11/8/prema: om in a meeting, cal me later 12/8/prema: rnr 17/8/prema: webinar on weekends 31/8/prema: shared details of DS 1/9/prema: rnr\n",
      "11/8/prema: i'm under medication, will b back after a wk, CT is comfortable 20/8/prema: share me bangalore ofc address 26/8/prema: at home they insist to join in Classroom only 30/8/prema: rnr (soma): want classroom training only\n",
      "10/8/17(Surendra):i will attend saturday demo 14/8/17(Surendra):i will attend morning 6:30 AMbatch 16/8/17(Surendra):morning 9:30 AM is Better 17/8/17(Surendra):i will check mornign 5/9/17(Surendra):RNR 23/11/17(Surendra):RNR 27/11/17(Surendra):RNR 28/11/17(Surendra):busy 1/12/17(Surendra):RNR 4/12/17(Surendra):RNR\n",
      "mail shared\n",
      "8/8/prema: in a meeting, call me tmrw 9/8/prema: share me details of ML, want demo at 9:30am 11/8/prema: i will check today's session n decide 12/8/prema: rnr 12/8/prema: not reachable 14/8/prema: rnr 17/8/prema: rnr 18/8/prema:rnr 28/8/prema: busy now, unable to attend sessions upto 2 weeks\n"
     ]
    }
   ],
   "source": [
    "for i in data['Status information'][:15]:\n",
    "    print(i)"
   ]
  },
  {
   "cell_type": "code",
   "execution_count": 41,
   "id": "52b3fe20",
   "metadata": {},
   "outputs": [],
   "source": [
    "import string\n",
    "punctuation_word= string.punctuation"
   ]
  },
  {
   "cell_type": "code",
   "execution_count": 42,
   "id": "1b5f531f",
   "metadata": {},
   "outputs": [
    {
     "name": "stderr",
     "output_type": "stream",
     "text": [
      "[nltk_data] Downloading package stopwords to\n",
      "[nltk_data]     C:\\Users\\shahe\\AppData\\Roaming\\nltk_data...\n",
      "[nltk_data]   Unzipping corpora\\stopwords.zip.\n"
     ]
    }
   ],
   "source": [
    "nltk.download(\"stopwords\")\n",
    "from nltk.corpus import stopwords\n",
    "\n",
    "stop_words = stopwords.words(\"english\")"
   ]
  },
  {
   "cell_type": "code",
   "execution_count": 43,
   "id": "75b68c02",
   "metadata": {},
   "outputs": [],
   "source": [
    "# custom stopwords where you will have negative words as well\n",
    "stop_words2 = [i for i in stop_words if i not in [\"not\",\"no\", \"nor\",\"don't\", \"aren't\",\n",
    " \"couldn't\",\n",
    " \"didn't\",\n",
    " \"doesn't\",\n",
    " \"hadn't\",\n",
    " \"hasn't\",\n",
    " \"haven't\",\n",
    " \"isn't\",\n",
    " \"mightn't\",\n",
    " \"mustn't\",\n",
    " \"needn't\",\n",
    " \"shouldn't\",\n",
    " \"wasn't\",\n",
    " \"weren't\",\n",
    " \"won't\",\n",
    " \"wouldn't\" ]]"
   ]
  },
  {
   "cell_type": "code",
   "execution_count": 45,
   "id": "0a4a66ef",
   "metadata": {},
   "outputs": [],
   "source": [
    "data[\"num_words\"] = data[\"Status information\"].apply(lambda x : len([i for i in nltk.word_tokenize(x) if i not in punctuation_word]))"
   ]
  },
  {
   "cell_type": "code",
   "execution_count": 46,
   "id": "fb984990",
   "metadata": {},
   "outputs": [
    {
     "data": {
      "text/plain": [
       "<Figure size 1080x540 with 0 Axes>"
      ]
     },
     "metadata": {},
     "output_type": "display_data"
    },
    {
     "data": {
      "image/png": "[encoded data removed]",
      "text/plain": [
       "<Figure size 751.125x500 with 1 Axes>"
      ]
     },
     "metadata": {},
     "output_type": "display_data"
    }
   ],
   "source": [
    "# how many words present in ppl go not converting\n",
    "plt.figure(figsize=(12,6), dpi=90)\n",
    "sns.displot(data=data, x=\"num_words\", hue=\"Status \", aspect=1.2)\n",
    "plt.show()"
   ]
  },
  {
   "cell_type": "code",
   "execution_count": 49,
   "id": "a96ff3d6",
   "metadata": {},
   "outputs": [
    {
     "name": "stdout",
     "output_type": "stream",
     "text": [
      "['24/4/17', 'prema', 'cal', '5:30', '18/7/17', 'prema', 'enrolled', 'another', 'course']\n",
      "['24/apr/mohan', 'not', 'reachble', '25/apr/mohan', 'rnr', '16/may/mohan', 'cal', 'not', 'cntcd', '7/7/17', 'gowtham', 'not', 'lokng', 'right']\n",
      "['25/4/17', 'surendra', 'share', 'details', 'join', 'tomorrow', '27/4/17', 'surendra', 'join', 'morning', '6:30am', 'early', 'surendra']\n",
      "['24/4/17', 'prema', 'shared', 'details', '25/4/17', 'prema', 'rnr', '9/5/17', 'prema', 'ct', 'shared', 'details', '12/5/17', 'gowtham', 'tim', 'nedded', '15/6/17', 'soma', 'call', 'disconnected']\n",
      "['24/apr/mohan', 'rnr', '25/apr/mohan', 'rnr', '16/may/mohan', 'need', 'mrng', 'demo', '7/7/17', 'gowtham', 'enroled', 'wid', 'another', 'inst', 'alomost', 'completed', 'traning']\n",
      "['25/4/17', 'surendra', 'please', 'send', 'details', 'tomorrow', 'afternoon', '12pm', 'discuss', '12/5/17', 'surendra', 'not', 'connected', '12/5/17', 'gowtham', 'not', 'intrsd']\n",
      "['24/4/17', 'prema', 'need', 'ct', 'venue', 'far', 'shared', 'details', 'ds', '25/4/17', 'prema', 'want', 'venue', 'near', 'banaswadi']\n",
      "['24/apr/mohan', 'intrstd', 'evng', 'batch', 'trail', 'perd', '26/apr/mohan', 'alrdy', 'reg', 'exlr']\n",
      "['1/5/17', 'surendra', 'please', 'share', 'details', '11/5/17', 'gowtham', 'already', 'done']\n"
     ]
    }
   ],
   "source": [
    "for i in data[\"Status information\"][-10:-1]:\n",
    "  print([x.lower() for x in nltk.word_tokenize(i) if x not in punctuation_word and x not in stop_words2])"
   ]
  },
  {
   "cell_type": "code",
   "execution_count": 56,
   "id": "78870de7",
   "metadata": {},
   "outputs": [
    {
     "name": "stdout",
     "output_type": "stream",
     "text": [
      "Collecting textblob\n",
      "  Downloading textblob-0.17.1-py2.py3-none-any.whl (636 kB)\n",
      "     -------------------------------------- 636.8/636.8 kB 4.0 MB/s eta 0:00:00\n",
      "Requirement already satisfied: nltk>=3.1 in c:\\users\\shahe\\anaconda3\\lib\\site-packages (from textblob) (3.7)\n",
      "Requirement already satisfied: joblib in c:\\users\\shahe\\anaconda3\\lib\\site-packages (from nltk>=3.1->textblob) (1.1.0)\n",
      "Requirement already satisfied: regex>=2021.8.3 in c:\\users\\shahe\\anaconda3\\lib\\site-packages (from nltk>=3.1->textblob) (2022.7.9)\n",
      "Requirement already satisfied: tqdm in c:\\users\\shahe\\anaconda3\\lib\\site-packages (from nltk>=3.1->textblob) (4.64.1)\n",
      "Requirement already satisfied: click in c:\\users\\shahe\\anaconda3\\lib\\site-packages (from nltk>=3.1->textblob) (8.0.4)\n",
      "Requirement already satisfied: colorama in c:\\users\\shahe\\anaconda3\\lib\\site-packages (from click->nltk>=3.1->textblob) (0.4.5)\n",
      "Installing collected packages: textblob\n",
      "Successfully installed textblob-0.17.1\n",
      "Note: you may need to restart the kernel to use updated packages.\n"
     ]
    }
   ],
   "source": [
    "pip install textblob"
   ]
  },
  {
   "cell_type": "code",
   "execution_count": 57,
   "id": "dc6cc80d",
   "metadata": {},
   "outputs": [],
   "source": [
    "# for understanding the spell corrector \n",
    "from textblob import TextBlob"
   ]
  },
  {
   "cell_type": "code",
   "execution_count": 58,
   "id": "e294c22d",
   "metadata": {},
   "outputs": [
    {
     "name": "stdout",
     "output_type": "stream",
     "text": [
      "24/4/17 prima cal 5:30 18/7/17 prima enrolled another course\n",
      "24/air/moran not readable 25/air/moran and 16/may/moran cal not catch 7/7/17 gowtham not long right\n",
      "25/4/17 surendra share details join tomorrow 27/4/17 surendra join morning 6:am early surendra\n",
      "24/4/17 prima shared details 25/4/17 prima and 9/5/17 prima it shared details 12/5/17 gowtham tim needed 15/6/17 some call disconnected\n",
      "24/air/moran and 25/air/moran and 16/may/moran need man domo 7/7/17 gowtham enrolled wid another inst almost completed trading\n",
      "25/4/17 surendra please send details tomorrow afternoon pm discuss 12/5/17 surendra not connected 12/5/17 gowtham not intra\n",
      "24/4/17 prima need it venue far shared details is 25/4/17 prima want venue near banaswadi\n",
      "24/air/moran intrusted long batch trail per 26/air/moran army red ever\n",
      "1/5/17 surendra please share details 11/5/17 gowtham already done\n"
     ]
    }
   ],
   "source": [
    "for i in data[\"Status information\"][-10:-1]:\n",
    "  txt = \" \".join([x.lower() for x in nltk.word_tokenize(i) if x not in punctuation_word and x not in stop_words2])\n",
    "  spell_check = TextBlob(txt)\n",
    "  txt = spell_check.correct().string\n",
    "  print(txt)"
   ]
  },
  {
   "cell_type": "markdown",
   "id": "1be01025",
   "metadata": {},
   "source": [
    "TextBlob does a very pathetic job in correcting chat spellings"
   ]
  },
  {
   "cell_type": "code",
   "execution_count": 59,
   "id": "e02d2351",
   "metadata": {},
   "outputs": [
    {
     "name": "stdout",
     "output_type": "stream",
     "text": [
      "Collecting pyspellchecker\n",
      "  Downloading pyspellchecker-0.7.0-py3-none-any.whl (2.5 MB)\n",
      "     ---------------------------------------- 2.5/2.5 MB 4.6 MB/s eta 0:00:00\n",
      "Installing collected packages: pyspellchecker\n",
      "Successfully installed pyspellchecker-0.7.0\n"
     ]
    }
   ],
   "source": [
    "# with pyspellchecker\n",
    "!pip install pyspellchecker"
   ]
  },
  {
   "cell_type": "code",
   "execution_count": 60,
   "id": "6f4f9285",
   "metadata": {},
   "outputs": [],
   "source": [
    "from spellchecker import SpellChecker\n",
    "sp=SpellChecker()"
   ]
  },
  {
   "cell_type": "code",
   "execution_count": 62,
   "id": "127308bf",
   "metadata": {},
   "outputs": [],
   "source": [
    "incorrect_words=sp.unknown(['rnr', 'rnr', 'need', 'mrng', 'demo', 'enroled', 'wid', 'another', 'inst', 'alomost', 'completed', 'traning'])"
   ]
  },
  {
   "cell_type": "code",
   "execution_count": 63,
   "id": "9574f414",
   "metadata": {},
   "outputs": [
    {
     "name": "stdout",
     "output_type": "stream",
     "text": [
      "ming\n",
      "{'mang', 'mong', 'ming', 'mung'}\n",
      "training\n",
      "{'craning', 'training', 'tracing', 'trading', 'traing'}\n",
      "almost\n",
      "{'almost'}\n",
      "ist\n",
      "{'irst', \"ins't\", 'ins', 'inset', \"in't\", 'int', 'ist'}\n",
      "enrolled\n",
      "{'enrolled'}\n",
      "rne\n",
      "{'ror', 'unr', 'rne'}\n"
     ]
    }
   ],
   "source": [
    "for i in incorrect_words:\n",
    "    print(sp.correction(i))\n",
    "    print(sp.candidates(i))"
   ]
  },
  {
   "cell_type": "markdown",
   "id": "eb24c135",
   "metadata": {},
   "source": [
    "\n",
    "# Text Preprocessing"
   ]
  },
  {
   "cell_type": "code",
   "execution_count": 64,
   "id": "469475f2",
   "metadata": {},
   "outputs": [],
   "source": [
    "import re"
   ]
  },
  {
   "cell_type": "code",
   "execution_count": 65,
   "id": "e3b7f43e",
   "metadata": {},
   "outputs": [
    {
     "data": {
      "text/html": [
       "<div>\n",
       "<style scoped>\n",
       "    .dataframe tbody tr th:only-of-type {\n",
       "        vertical-align: middle;\n",
       "    }\n",
       "\n",
       "    .dataframe tbody tr th {\n",
       "        vertical-align: top;\n",
       "    }\n",
       "\n",
       "    .dataframe thead th {\n",
       "        text-align: right;\n",
       "    }\n",
       "</style>\n",
       "<table border=\"1\" class=\"dataframe\">\n",
       "  <thead>\n",
       "    <tr style=\"text-align: right;\">\n",
       "      <th></th>\n",
       "      <th>Lead Name</th>\n",
       "      <th>Location</th>\n",
       "      <th>Status</th>\n",
       "      <th>Status information</th>\n",
       "      <th>Country</th>\n",
       "      <th>num_char</th>\n",
       "      <th>num_words</th>\n",
       "    </tr>\n",
       "  </thead>\n",
       "  <tbody>\n",
       "    <tr>\n",
       "      <th>0</th>\n",
       "      <td>Raja</td>\n",
       "      <td>hyderabad</td>\n",
       "      <td>Not Converted</td>\n",
       "      <td>14/8/prema: share me details, available in evn...</td>\n",
       "      <td>india</td>\n",
       "      <td>133</td>\n",
       "      <td>18</td>\n",
       "    </tr>\n",
       "    <tr>\n",
       "      <th>1</th>\n",
       "      <td>Anirudh Reddy</td>\n",
       "      <td>pune</td>\n",
       "      <td>Not Converted</td>\n",
       "      <td>14/8/prema: cal me tmrw, shared details to ema...</td>\n",
       "      <td>india</td>\n",
       "      <td>171</td>\n",
       "      <td>27</td>\n",
       "    </tr>\n",
       "    <tr>\n",
       "      <th>2</th>\n",
       "      <td>Sapna Dewani</td>\n",
       "      <td>bangalore</td>\n",
       "      <td>Converted</td>\n",
       "      <td>16|AuG|moHan:rnr</td>\n",
       "      <td>india</td>\n",
       "      <td>16</td>\n",
       "      <td>2</td>\n",
       "    </tr>\n",
       "    <tr>\n",
       "      <th>3</th>\n",
       "      <td>suresh</td>\n",
       "      <td>mumbai</td>\n",
       "      <td>Not Converted</td>\n",
       "      <td>14/8/17(Surendra):i want only Server 16|AuG|mo...</td>\n",
       "      <td>india</td>\n",
       "      <td>86</td>\n",
       "      <td>13</td>\n",
       "    </tr>\n",
       "    <tr>\n",
       "      <th>4</th>\n",
       "      <td>Akshay Shinde</td>\n",
       "      <td>hyderabad</td>\n",
       "      <td>Not Converted</td>\n",
       "      <td>14/8/prema:rnr 16/8/prema: gave info, he said ...</td>\n",
       "      <td>india</td>\n",
       "      <td>118</td>\n",
       "      <td>19</td>\n",
       "    </tr>\n",
       "  </tbody>\n",
       "</table>\n",
       "</div>"
      ],
      "text/plain": [
       "       Lead Name   Location        Status   \\\n",
       "0           Raja  hyderabad  Not Converted   \n",
       "1  Anirudh Reddy       pune  Not Converted   \n",
       "2   Sapna Dewani  bangalore     Converted    \n",
       "3         suresh     mumbai  Not Converted   \n",
       "4  Akshay Shinde  hyderabad  Not Converted   \n",
       "\n",
       "                                  Status information Country  num_char  \\\n",
       "0  14/8/prema: share me details, available in evn...   india       133   \n",
       "1  14/8/prema: cal me tmrw, shared details to ema...   india       171   \n",
       "2                                   16|AuG|moHan:rnr   india        16   \n",
       "3  14/8/17(Surendra):i want only Server 16|AuG|mo...   india        86   \n",
       "4  14/8/prema:rnr 16/8/prema: gave info, he said ...   india       118   \n",
       "\n",
       "   num_words  \n",
       "0         18  \n",
       "1         27  \n",
       "2          2  \n",
       "3         13  \n",
       "4         19  "
      ]
     },
     "execution_count": 65,
     "metadata": {},
     "output_type": "execute_result"
    }
   ],
   "source": [
    "data.head()"
   ]
  },
  {
   "cell_type": "code",
   "execution_count": 66,
   "id": "ac8464f5",
   "metadata": {},
   "outputs": [],
   "source": [
    "df=data.copy()"
   ]
  },
  {
   "cell_type": "code",
   "execution_count": 67,
   "id": "f3e147e1",
   "metadata": {},
   "outputs": [],
   "source": [
    "#label encoding the locations\n",
    "from sklearn.preprocessing import LabelEncoder\n",
    "le=LabelEncoder()"
   ]
  },
  {
   "cell_type": "code",
   "execution_count": 68,
   "id": "0fe458c5",
   "metadata": {},
   "outputs": [],
   "source": [
    "df['Location']=le.fit_transform(df['Location'])"
   ]
  },
  {
   "cell_type": "code",
   "execution_count": 84,
   "id": "127b8eb5",
   "metadata": {},
   "outputs": [],
   "source": [
    "df[\"Status \"].replace({\"Not Converted\": 1, \"Converted \": 0}, inplace=True)\n"
   ]
  },
  {
   "cell_type": "code",
   "execution_count": 85,
   "id": "668e514f",
   "metadata": {},
   "outputs": [
    {
     "data": {
      "text/html": [
       "<div>\n",
       "<style scoped>\n",
       "    .dataframe tbody tr th:only-of-type {\n",
       "        vertical-align: middle;\n",
       "    }\n",
       "\n",
       "    .dataframe tbody tr th {\n",
       "        vertical-align: top;\n",
       "    }\n",
       "\n",
       "    .dataframe thead th {\n",
       "        text-align: right;\n",
       "    }\n",
       "</style>\n",
       "<table border=\"1\" class=\"dataframe\">\n",
       "  <thead>\n",
       "    <tr style=\"text-align: right;\">\n",
       "      <th></th>\n",
       "      <th>Lead Name</th>\n",
       "      <th>Location</th>\n",
       "      <th>Status</th>\n",
       "      <th>Status information</th>\n",
       "      <th>Country</th>\n",
       "      <th>num_char</th>\n",
       "      <th>num_words</th>\n",
       "      <th>cleaned_txt</th>\n",
       "    </tr>\n",
       "  </thead>\n",
       "  <tbody>\n",
       "    <tr>\n",
       "      <th>0</th>\n",
       "      <td>Raja</td>\n",
       "      <td>16</td>\n",
       "      <td>1</td>\n",
       "      <td>14/8/prema: share me details, available in evn...</td>\n",
       "      <td>india</td>\n",
       "      <td>133</td>\n",
       "      <td>18</td>\n",
       "      <td>share detail available evng postponed plan tra...</td>\n",
       "    </tr>\n",
       "    <tr>\n",
       "      <th>1</th>\n",
       "      <td>Anirudh Reddy</td>\n",
       "      <td>35</td>\n",
       "      <td>1</td>\n",
       "      <td>14/8/prema: cal me tmrw, shared details to ema...</td>\n",
       "      <td>india</td>\n",
       "      <td>171</td>\n",
       "      <td>27</td>\n",
       "      <td>cal tmrw shared detail email share detail emai...</td>\n",
       "    </tr>\n",
       "    <tr>\n",
       "      <th>2</th>\n",
       "      <td>Sapna Dewani</td>\n",
       "      <td>3</td>\n",
       "      <td>0</td>\n",
       "      <td>16|AuG|moHan:rnr</td>\n",
       "      <td>india</td>\n",
       "      <td>16</td>\n",
       "      <td>2</td>\n",
       "      <td>rnr</td>\n",
       "    </tr>\n",
       "    <tr>\n",
       "      <th>3</th>\n",
       "      <td>suresh</td>\n",
       "      <td>27</td>\n",
       "      <td>1</td>\n",
       "      <td>14/8/17(Surendra):i want only Server 16|AuG|mo...</td>\n",
       "      <td>india</td>\n",
       "      <td>86</td>\n",
       "      <td>13</td>\n",
       "      <td>want server cal busy reg server</td>\n",
       "    </tr>\n",
       "    <tr>\n",
       "      <th>4</th>\n",
       "      <td>Akshay Shinde</td>\n",
       "      <td>16</td>\n",
       "      <td>1</td>\n",
       "      <td>14/8/prema:rnr 16/8/prema: gave info, he said ...</td>\n",
       "      <td>india</td>\n",
       "      <td>118</td>\n",
       "      <td>19</td>\n",
       "      <td>rnr gave info said revert hr planning next mon...</td>\n",
       "    </tr>\n",
       "  </tbody>\n",
       "</table>\n",
       "</div>"
      ],
      "text/plain": [
       "       Lead Name  Location  Status   \\\n",
       "0           Raja        16        1   \n",
       "1  Anirudh Reddy        35        1   \n",
       "2   Sapna Dewani         3        0   \n",
       "3         suresh        27        1   \n",
       "4  Akshay Shinde        16        1   \n",
       "\n",
       "                                  Status information Country  num_char  \\\n",
       "0  14/8/prema: share me details, available in evn...   india       133   \n",
       "1  14/8/prema: cal me tmrw, shared details to ema...   india       171   \n",
       "2                                   16|AuG|moHan:rnr   india        16   \n",
       "3  14/8/17(Surendra):i want only Server 16|AuG|mo...   india        86   \n",
       "4  14/8/prema:rnr 16/8/prema: gave info, he said ...   india       118   \n",
       "\n",
       "   num_words                                        cleaned_txt  \n",
       "0         18  share detail available evng postponed plan tra...  \n",
       "1         27  cal tmrw shared detail email share detail emai...  \n",
       "2          2                                                rnr  \n",
       "3         13                    want server cal busy reg server  \n",
       "4         19  rnr gave info said revert hr planning next mon...  "
      ]
     },
     "execution_count": 85,
     "metadata": {},
     "output_type": "execute_result"
    }
   ],
   "source": [
    "# 1 = Not converted 0 =Converted\n",
    "df.head()"
   ]
  },
  {
   "cell_type": "code",
   "execution_count": 86,
   "id": "15fcb5c7",
   "metadata": {},
   "outputs": [
    {
     "name": "stderr",
     "output_type": "stream",
     "text": [
      "[nltk_data] Downloading package wordnet to\n",
      "[nltk_data]     C:\\Users\\shahe\\AppData\\Roaming\\nltk_data...\n",
      "[nltk_data]   Package wordnet is already up-to-date!\n"
     ]
    },
    {
     "data": {
      "text/plain": [
       "True"
      ]
     },
     "execution_count": 86,
     "metadata": {},
     "output_type": "execute_result"
    }
   ],
   "source": [
    "nltk.download(\"wordnet\")"
   ]
  },
  {
   "cell_type": "code",
   "execution_count": 87,
   "id": "15989134",
   "metadata": {},
   "outputs": [
    {
     "name": "stderr",
     "output_type": "stream",
     "text": [
      "[nltk_data] Downloading package omw-1.4 to\n",
      "[nltk_data]     C:\\Users\\shahe\\AppData\\Roaming\\nltk_data...\n",
      "[nltk_data]   Package omw-1.4 is already up-to-date!\n"
     ]
    },
    {
     "data": {
      "text/plain": [
       "True"
      ]
     },
     "execution_count": 87,
     "metadata": {},
     "output_type": "execute_result"
    }
   ],
   "source": [
    "nltk.download(\"omw-1.4\")"
   ]
  },
  {
   "cell_type": "code",
   "execution_count": 88,
   "id": "2fd3ce08",
   "metadata": {},
   "outputs": [],
   "source": [
    "from nltk.stem import WordNetLemmatizer\n",
    "lamma = WordNetLemmatizer()\n",
    "def preprocess(txt):\n",
    "    x = txt.lower()\n",
    "    x = re.sub(\"\\d+[/?]\\w+[/?]\\w+:|\\d+[|]\\w+[|]\\w+:|\\d+[/]\\w+[/]\\w+[(]\\w+[)]:?\", \"\", x)\n",
    "    x = re.sub(\"int[a-z]+d$\", \"interested\", x)\n",
    "    x = re.sub(\"[\\d+-?,'.]\", \"\", x)\n",
    "    x = [i for i in nltk.word_tokenize(x) if i not in stop_words2 and len(i)>1 and i not in punctuation_word] \n",
    "    x = [lamma.lemmatize(i) for i in x] \n",
    "    return \" \".join(x)"
   ]
  },
  {
   "cell_type": "code",
   "execution_count": 89,
   "id": "1f2abdbb",
   "metadata": {},
   "outputs": [
    {
     "name": "stdout",
     "output_type": "stream",
     "text": [
      "14/8/prema: share me details, available in evng 18/8/prema: postponed the plans for training currently 9/11/prema: not interested now\n",
      "14/8/prema: cal me tmrw, shared details to email 16/8/prema: share details to email, will check n revert 18/8/prema: received your email, i'm looking for ASQ certification\n",
      "16|AuG|moHan:rnr\n",
      "14/8/17(Surendra):i want only Server 16|AuG|moHan:cal busy 17|AuG|moHan:reg for server\n",
      "14/8/prema:rnr 16/8/prema: gave info, he said he will revert in 1hr 30/8/prema: planning for next month, share details\n",
      "12/8/17(Surendra):i will check demo(attended demo) 14/8/17(Surendra):i will get back 17/8/17(Surendra):i will think and respond 23/11/17(Surendra):not interested\n",
      "14/8/17(Surendra):asking code\n",
      "11|aUg|moHan:mail shred for ML Tensorflow corprt 16|AuG|moHan:shared but rnr\n",
      "11|AuG|moHan:askng code\n",
      "11/8/prema: RNR 11/8/prema: share me tableau recorded session check n revert 12/8/prema: not reachable 14/8/prema: RNR 16/8/prema: have rotational shifts, will check details n confirm 17/8/prema: rnr 17/8/surendra: i will confirm by tmrw 18/8/prema: rnr 22/8/prema: share me details of webinar on 23rd\n",
      "11/8/prema: call me @ 5pm 11/8/prema: om in a meeting, cal me later 12/8/prema: rnr 17/8/prema: webinar on weekends 31/8/prema: shared details of DS 1/9/prema: rnr\n",
      "11/8/prema: i'm under medication, will b back after a wk, CT is comfortable 20/8/prema: share me bangalore ofc address 26/8/prema: at home they insist to join in Classroom only 30/8/prema: rnr (soma): want classroom training only\n"
     ]
    }
   ],
   "source": [
    "for i in data[\"Status information\"][:12]:\n",
    "    print(i)"
   ]
  },
  {
   "cell_type": "code",
   "execution_count": 90,
   "id": "e8508b8d",
   "metadata": {},
   "outputs": [
    {
     "name": "stdout",
     "output_type": "stream",
     "text": [
      "share detail available evng postponed plan training currently not interested\n",
      "cal tmrw shared detail email share detail email check revert received email im looking asq certification\n",
      "rnr\n",
      "want server cal busy reg server\n",
      "rnr gave info said revert hr planning next month share detail\n",
      "check demo attended demo get back think respond not interested\n",
      "asking code\n",
      "mail shred ml tensorflow corprt shared rnr\n",
      "askng code\n",
      "rnr share tableau recorded session check revert not reachable rnr rotational shift check detail confirm rnr confirm tmrw rnr share detail webinar rd\n",
      "call pm om meeting cal later rnr webinar weekend shared detail d rnr\n",
      "im medication back wk ct comfortable share bangalore ofc address home insist join classroom rnr soma want classroom training\n"
     ]
    }
   ],
   "source": [
    "for i in data[\"Status information\"][:12]:\n",
    "    print(preprocess(i))"
   ]
  },
  {
   "cell_type": "code",
   "execution_count": 91,
   "id": "1e9639f4",
   "metadata": {},
   "outputs": [],
   "source": [
    "df[\"cleaned_txt\"]=df[\"Status information\"].apply(preprocess)"
   ]
  },
  {
   "cell_type": "markdown",
   "id": "937f1edd",
   "metadata": {},
   "source": [
    "now that we have cleaned the txt, lets correct few specific spellings"
   ]
  },
  {
   "cell_type": "code",
   "execution_count": 92,
   "id": "f511eb1e",
   "metadata": {},
   "outputs": [
    {
     "data": {
      "text/html": [
       "<div>\n",
       "<style scoped>\n",
       "    .dataframe tbody tr th:only-of-type {\n",
       "        vertical-align: middle;\n",
       "    }\n",
       "\n",
       "    .dataframe tbody tr th {\n",
       "        vertical-align: top;\n",
       "    }\n",
       "\n",
       "    .dataframe thead th {\n",
       "        text-align: right;\n",
       "    }\n",
       "</style>\n",
       "<table border=\"1\" class=\"dataframe\">\n",
       "  <thead>\n",
       "    <tr style=\"text-align: right;\">\n",
       "      <th></th>\n",
       "      <th>Lead Name</th>\n",
       "      <th>Location</th>\n",
       "      <th>Status</th>\n",
       "      <th>Status information</th>\n",
       "      <th>Country</th>\n",
       "      <th>num_char</th>\n",
       "      <th>num_words</th>\n",
       "      <th>cleaned_txt</th>\n",
       "    </tr>\n",
       "  </thead>\n",
       "  <tbody>\n",
       "    <tr>\n",
       "      <th>0</th>\n",
       "      <td>Raja</td>\n",
       "      <td>16</td>\n",
       "      <td>1</td>\n",
       "      <td>14/8/prema: share me details, available in evn...</td>\n",
       "      <td>india</td>\n",
       "      <td>133</td>\n",
       "      <td>18</td>\n",
       "      <td>share detail available evng postponed plan tra...</td>\n",
       "    </tr>\n",
       "    <tr>\n",
       "      <th>1</th>\n",
       "      <td>Anirudh Reddy</td>\n",
       "      <td>35</td>\n",
       "      <td>1</td>\n",
       "      <td>14/8/prema: cal me tmrw, shared details to ema...</td>\n",
       "      <td>india</td>\n",
       "      <td>171</td>\n",
       "      <td>27</td>\n",
       "      <td>cal tmrw shared detail email share detail emai...</td>\n",
       "    </tr>\n",
       "    <tr>\n",
       "      <th>2</th>\n",
       "      <td>Sapna Dewani</td>\n",
       "      <td>3</td>\n",
       "      <td>0</td>\n",
       "      <td>16|AuG|moHan:rnr</td>\n",
       "      <td>india</td>\n",
       "      <td>16</td>\n",
       "      <td>2</td>\n",
       "      <td>rnr</td>\n",
       "    </tr>\n",
       "    <tr>\n",
       "      <th>3</th>\n",
       "      <td>suresh</td>\n",
       "      <td>27</td>\n",
       "      <td>1</td>\n",
       "      <td>14/8/17(Surendra):i want only Server 16|AuG|mo...</td>\n",
       "      <td>india</td>\n",
       "      <td>86</td>\n",
       "      <td>13</td>\n",
       "      <td>want server cal busy reg server</td>\n",
       "    </tr>\n",
       "    <tr>\n",
       "      <th>4</th>\n",
       "      <td>Akshay Shinde</td>\n",
       "      <td>16</td>\n",
       "      <td>1</td>\n",
       "      <td>14/8/prema:rnr 16/8/prema: gave info, he said ...</td>\n",
       "      <td>india</td>\n",
       "      <td>118</td>\n",
       "      <td>19</td>\n",
       "      <td>rnr gave info said revert hr planning next mon...</td>\n",
       "    </tr>\n",
       "  </tbody>\n",
       "</table>\n",
       "</div>"
      ],
      "text/plain": [
       "       Lead Name  Location  Status   \\\n",
       "0           Raja        16        1   \n",
       "1  Anirudh Reddy        35        1   \n",
       "2   Sapna Dewani         3        0   \n",
       "3         suresh        27        1   \n",
       "4  Akshay Shinde        16        1   \n",
       "\n",
       "                                  Status information Country  num_char  \\\n",
       "0  14/8/prema: share me details, available in evn...   india       133   \n",
       "1  14/8/prema: cal me tmrw, shared details to ema...   india       171   \n",
       "2                                   16|AuG|moHan:rnr   india        16   \n",
       "3  14/8/17(Surendra):i want only Server 16|AuG|mo...   india        86   \n",
       "4  14/8/prema:rnr 16/8/prema: gave info, he said ...   india       118   \n",
       "\n",
       "   num_words                                        cleaned_txt  \n",
       "0         18  share detail available evng postponed plan tra...  \n",
       "1         27  cal tmrw shared detail email share detail emai...  \n",
       "2          2                                                rnr  \n",
       "3         13                    want server cal busy reg server  \n",
       "4         19  rnr gave info said revert hr planning next mon...  "
      ]
     },
     "execution_count": 92,
     "metadata": {},
     "output_type": "execute_result"
    }
   ],
   "source": [
    "df.head()"
   ]
  },
  {
   "cell_type": "code",
   "execution_count": 98,
   "id": "c4d6f74c",
   "metadata": {},
   "outputs": [
    {
     "name": "stdout",
     "output_type": "stream",
     "text": [
      "cacl latr rnr soma asked call tomorrow\n",
      "call pm iam college iam class\n",
      "detail shared rnr didnt go mail go revert detail shared soma not interested\n",
      "detaills shared said next month\n",
      "shared detail not reachable not right time talk cal evng tied agency\n",
      "rnr rnr cald many time rnr not interested\n",
      "rnr rnr call min check evening pm not interested\n",
      "u number\n",
      "rnr rnr\n",
      "need reg clsroom try satdy demo rnr rnr rnr rnr\n"
     ]
    }
   ],
   "source": [
    "for i in df[\"cleaned_txt\"][30:40]:\n",
    "    print(i)"
   ]
  },
  {
   "cell_type": "markdown",
   "id": "864d8a61",
   "metadata": {},
   "source": [
    "# Dealing with imbalance data"
   ]
  },
  {
   "cell_type": "code",
   "execution_count": 99,
   "id": "d8326d32",
   "metadata": {},
   "outputs": [
    {
     "data": {
      "text/plain": [
       "1    845\n",
       "0    129\n",
       "Name: Status , dtype: int64"
      ]
     },
     "execution_count": 99,
     "metadata": {},
     "output_type": "execute_result"
    }
   ],
   "source": [
    "df['Status '].value_counts()"
   ]
  },
  {
   "cell_type": "code",
   "execution_count": 101,
   "id": "933ba73c",
   "metadata": {},
   "outputs": [],
   "source": [
    "from sklearn.utils import resample\n",
    "df_1=df[df[\"Status \"]==1]\n",
    "df_0=df[df[\"Status \"]==0]\n",
    "df_0_upsampled = resample(df_0, replace=True,n_samples=600, random_state=20)\n",
    "df_upsampled= pd.concat([df_1,df_0_upsampled],axis=0)"
   ]
  },
  {
   "cell_type": "code",
   "execution_count": 102,
   "id": "b3822c37",
   "metadata": {},
   "outputs": [
    {
     "data": {
      "text/plain": [
       "1    845\n",
       "0    600\n",
       "Name: Status , dtype: int64"
      ]
     },
     "execution_count": 102,
     "metadata": {},
     "output_type": "execute_result"
    }
   ],
   "source": [
    "df_upsampled[\"Status \"].value_counts()"
   ]
  },
  {
   "cell_type": "markdown",
   "id": "9496f220",
   "metadata": {},
   "source": [
    "# Word Cloud"
   ]
  },
  {
   "cell_type": "code",
   "execution_count": 103,
   "id": "a1bfad7f",
   "metadata": {},
   "outputs": [],
   "source": [
    "def word_freq(x):\n",
    "    lst = []\n",
    "    for word in x.split():\n",
    "        lst.extend(word)\n",
    "    words = pd.Series(lst)\n",
    "    return words"
   ]
  },
  {
   "cell_type": "code",
   "execution_count": 104,
   "id": "8e4a4f14",
   "metadata": {},
   "outputs": [],
   "source": [
    "words_freq = word_freq(df[df[\"Status \"]==1][\"cleaned_txt\"].str)"
   ]
  },
  {
   "cell_type": "code",
   "execution_count": 105,
   "id": "cdbe790b",
   "metadata": {},
   "outputs": [],
   "source": [
    "top_words = words_freq.value_counts().reset_index()[:30]\n"
   ]
  },
  {
   "cell_type": "code",
   "execution_count": 106,
   "id": "4718107b",
   "metadata": {},
   "outputs": [
    {
     "data": {
      "text/html": [
       "<div>\n",
       "<style scoped>\n",
       "    .dataframe tbody tr th:only-of-type {\n",
       "        vertical-align: middle;\n",
       "    }\n",
       "\n",
       "    .dataframe tbody tr th {\n",
       "        vertical-align: top;\n",
       "    }\n",
       "\n",
       "    .dataframe thead th {\n",
       "        text-align: right;\n",
       "    }\n",
       "</style>\n",
       "<table border=\"1\" class=\"dataframe\">\n",
       "  <thead>\n",
       "    <tr style=\"text-align: right;\">\n",
       "      <th></th>\n",
       "      <th>index</th>\n",
       "      <th>0</th>\n",
       "    </tr>\n",
       "  </thead>\n",
       "  <tbody>\n",
       "    <tr>\n",
       "      <th>0</th>\n",
       "      <td>rnr</td>\n",
       "      <td>1084</td>\n",
       "    </tr>\n",
       "    <tr>\n",
       "      <th>1</th>\n",
       "      <td>detail</td>\n",
       "      <td>439</td>\n",
       "    </tr>\n",
       "    <tr>\n",
       "      <th>2</th>\n",
       "      <td>not</td>\n",
       "      <td>377</td>\n",
       "    </tr>\n",
       "    <tr>\n",
       "      <th>3</th>\n",
       "      <td>call</td>\n",
       "      <td>364</td>\n",
       "    </tr>\n",
       "    <tr>\n",
       "      <th>4</th>\n",
       "      <td>shared</td>\n",
       "      <td>310</td>\n",
       "    </tr>\n",
       "  </tbody>\n",
       "</table>\n",
       "</div>"
      ],
      "text/plain": [
       "    index     0\n",
       "0     rnr  1084\n",
       "1  detail   439\n",
       "2     not   377\n",
       "3    call   364\n",
       "4  shared   310"
      ]
     },
     "execution_count": 106,
     "metadata": {},
     "output_type": "execute_result"
    }
   ],
   "source": [
    "top_words.head()"
   ]
  },
  {
   "cell_type": "code",
   "execution_count": 107,
   "id": "10c325ad",
   "metadata": {},
   "outputs": [
    {
     "data": {
      "image/png": "[encoded data removed]",
      "text/plain": [
       "<Figure size 1440x540 with 1 Axes>"
      ]
     },
     "metadata": {},
     "output_type": "display_data"
    }
   ],
   "source": [
    "plt.figure(figsize=(16,6),dpi=90)\n",
    "sns.barplot(data=top_words, x=\"index\", y=0)\n",
    "plt.xticks(rotation=\"vertical\")\n",
    "plt.show()\n"
   ]
  },
  {
   "cell_type": "code",
   "execution_count": 109,
   "id": "e1cd7363",
   "metadata": {},
   "outputs": [
    {
     "name": "stdout",
     "output_type": "stream",
     "text": [
      "Collecting wordcloudNote: you may need to restart the kernel to use updated packages.\n",
      "\n",
      "  Downloading wordcloud-1.8.2.2-cp39-cp39-win_amd64.whl (153 kB)\n",
      "     -------------------------------------- 153.1/153.1 kB 1.3 MB/s eta 0:00:00\n",
      "Requirement already satisfied: numpy>=1.6.1 in c:\\users\\shahe\\anaconda3\\lib\\site-packages (from wordcloud) (1.21.5)\n",
      "Requirement already satisfied: pillow in c:\\users\\shahe\\anaconda3\\lib\\site-packages (from wordcloud) (9.2.0)\n",
      "Requirement already satisfied: matplotlib in c:\\users\\shahe\\anaconda3\\lib\\site-packages (from wordcloud) (3.5.2)\n",
      "Requirement already satisfied: python-dateutil>=2.7 in c:\\users\\shahe\\anaconda3\\lib\\site-packages (from matplotlib->wordcloud) (2.8.2)\n",
      "Requirement already satisfied: packaging>=20.0 in c:\\users\\shahe\\anaconda3\\lib\\site-packages (from matplotlib->wordcloud) (21.3)\n",
      "Requirement already satisfied: cycler>=0.10 in c:\\users\\shahe\\anaconda3\\lib\\site-packages (from matplotlib->wordcloud) (0.11.0)\n",
      "Requirement already satisfied: kiwisolver>=1.0.1 in c:\\users\\shahe\\anaconda3\\lib\\site-packages (from matplotlib->wordcloud) (1.4.2)\n",
      "Requirement already satisfied: pyparsing>=2.2.1 in c:\\users\\shahe\\anaconda3\\lib\\site-packages (from matplotlib->wordcloud) (3.0.9)\n",
      "Requirement already satisfied: fonttools>=4.22.0 in c:\\users\\shahe\\anaconda3\\lib\\site-packages (from matplotlib->wordcloud) (4.25.0)\n",
      "Requirement already satisfied: six>=1.5 in c:\\users\\shahe\\anaconda3\\lib\\site-packages (from python-dateutil>=2.7->matplotlib->wordcloud) (1.16.0)\n",
      "Installing collected packages: wordcloud\n",
      "Successfully installed wordcloud-1.8.2.2\n"
     ]
    }
   ],
   "source": [
    "pip install wordcloud"
   ]
  },
  {
   "cell_type": "code",
   "execution_count": 110,
   "id": "872ad245",
   "metadata": {},
   "outputs": [],
   "source": [
    "from wordcloud import WordCloud "
   ]
  },
  {
   "cell_type": "code",
   "execution_count": 113,
   "id": "f8b5abfb",
   "metadata": {},
   "outputs": [],
   "source": [
    "wc=WordCloud(width= 1200, height=800, max_words=30)\n",
    "not_converted_wc = wc.generate(df[df[\"Status \"]==1][\"cleaned_txt\"].str.cat(sep=\" \"))"
   ]
  },
  {
   "cell_type": "code",
   "execution_count": 114,
   "id": "c81c223a",
   "metadata": {},
   "outputs": [
    {
     "data": {
      "image/png": "[encoded data removed]",
      "text/plain": [
       "<Figure size 1080x540 with 1 Axes>"
      ]
     },
     "metadata": {},
     "output_type": "display_data"
    }
   ],
   "source": [
    "plt.figure(figsize=(12,6),dpi=90)\n",
    "plt.imshow(not_converted_wc)\n",
    "plt.show()"
   ]
  },
  {
   "cell_type": "code",
   "execution_count": 116,
   "id": "9d6c5172",
   "metadata": {},
   "outputs": [],
   "source": [
    "converted_wc=wc.generate(df[df[\"Status \"]==0][\"cleaned_txt\"].str.cat(sep=\" \"))"
   ]
  },
  {
   "cell_type": "code",
   "execution_count": 117,
   "id": "7565b3e2",
   "metadata": {},
   "outputs": [
    {
     "data": {
      "image/png": "[encoded data removed]",
      "text/plain": [
       "<Figure size 1080x540 with 1 Axes>"
      ]
     },
     "metadata": {},
     "output_type": "display_data"
    }
   ],
   "source": [
    "plt.figure(figsize=(12,6),dpi=90)\n",
    "plt.imshow(converted_wc)\n",
    "plt.show()"
   ]
  },
  {
   "cell_type": "markdown",
   "id": "0fb5517e",
   "metadata": {},
   "source": [
    "# Task 1 Topic Modeling"
   ]
  },
  {
   "cell_type": "code",
   "execution_count": 118,
   "id": "c59055ec",
   "metadata": {},
   "outputs": [],
   "source": [
    "from sklearn.feature_extraction.text import CountVectorizer,TfidfVectorizer \n",
    "cv = CountVectorizer(max_features=500, ngram_range=(2,2))"
   ]
  },
  {
   "cell_type": "code",
   "execution_count": 119,
   "id": "91e1dfc6",
   "metadata": {},
   "outputs": [],
   "source": [
    "vector_txt = cv.fit_transform(df_upsampled[\"cleaned_txt\"])"
   ]
  },
  {
   "cell_type": "code",
   "execution_count": 120,
   "id": "8a96e2ad",
   "metadata": {},
   "outputs": [],
   "source": [
    "from sklearn.decomposition import LatentDirichletAllocation"
   ]
  },
  {
   "cell_type": "code",
   "execution_count": 121,
   "id": "04551ea3",
   "metadata": {},
   "outputs": [],
   "source": [
    "lda_model = LatentDirichletAllocation(n_components=2,learning_method='online',random_state=42,max_iter=5)"
   ]
  },
  {
   "cell_type": "code",
   "execution_count": 122,
   "id": "82e64245",
   "metadata": {},
   "outputs": [],
   "source": [
    "lda_top = lda_model.fit_transform(vector_txt)"
   ]
  },
  {
   "cell_type": "code",
   "execution_count": 123,
   "id": "b5f60557",
   "metadata": {},
   "outputs": [
    {
     "name": "stdout",
     "output_type": "stream",
     "text": [
      "Document 0: \n",
      "Topic  0 :  59.69289986299935 %\n",
      "Topic  1 :  40.30710013700066 %\n"
     ]
    }
   ],
   "source": [
    "\n",
    "print(\"Document 0: \")\n",
    "for i,topic in enumerate(lda_top[0]):\n",
    "  print(\"Topic \",i,\": \",topic*100,\"%\")"
   ]
  },
  {
   "cell_type": "code",
   "execution_count": 124,
   "id": "624a203a",
   "metadata": {},
   "outputs": [
    {
     "name": "stderr",
     "output_type": "stream",
     "text": [
      "C:\\Users\\shahe\\anaconda3\\lib\\site-packages\\sklearn\\utils\\deprecation.py:87: FutureWarning: Function get_feature_names is deprecated; get_feature_names is deprecated in 1.0 and will be removed in 1.2. Please use get_feature_names_out instead.\n",
      "  warnings.warn(msg, category=FutureWarning)\n"
     ]
    }
   ],
   "source": [
    "topics = dict()\n",
    "vocab = cv.get_feature_names()\n",
    "for i, comp in enumerate(lda_model.components_):\n",
    "     vocab_comp = zip(vocab, comp)\n",
    "     sorted_words = sorted(vocab_comp, key= lambda x:x[1], reverse=True)[:9]\n",
    "     tp = \"Topic \"+str(i)+\": \"\n",
    "     topics[tp] = []\n",
    "     for t in sorted_words:\n",
    "       topics[tp].append(t[0])"
   ]
  },
  {
   "cell_type": "code",
   "execution_count": 125,
   "id": "b83c69cf",
   "metadata": {},
   "outputs": [
    {
     "name": "stdout",
     "output_type": "stream",
     "text": [
      "Topic 0:  : ['rnr rnr', 'shared detail', 'not interested', 'rnr call', 'detail rnr', 'share detail', 'get back', 'rnr shared', 'not connected']\n",
      "Topic 1:  : ['shared detail', 'share detail', 'detail shared', 'let know', 'coverage area', 'cal back', 'iam not', 'demo detail', 'detail check']\n"
     ]
    }
   ],
   "source": [
    "# now we understand what topics will have what words that are being considered\n",
    "for k,v in topics.items():\n",
    "  print(f\"{k} : {v}\")"
   ]
  },
  {
   "cell_type": "code",
   "execution_count": 126,
   "id": "4167a3a3",
   "metadata": {},
   "outputs": [
    {
     "data": {
      "text/plain": [
       "1"
      ]
     },
     "execution_count": 126,
     "metadata": {},
     "output_type": "execute_result"
    }
   ],
   "source": [
    "df[\"Status \"][0]\n"
   ]
  },
  {
   "cell_type": "code",
   "execution_count": 127,
   "id": "6f64f67d",
   "metadata": {},
   "outputs": [
    {
     "name": "stdout",
     "output_type": "stream",
     "text": [
      "Document 1: \n",
      "Topic  0 :  30.116018275551287 %\n",
      "Topic  1 :  69.8839817244487 %\n"
     ]
    }
   ],
   "source": [
    "# lets check for document 1\n",
    "print(\"Document 1: \")\n",
    "for i,topic in enumerate(lda_top[1]):\n",
    "  print(\"Topic \",i,\": \",topic*100,\"%\")"
   ]
  },
  {
   "cell_type": "code",
   "execution_count": 128,
   "id": "19f07d32",
   "metadata": {},
   "outputs": [
    {
     "name": "stdout",
     "output_type": "stream",
     "text": [
      "14/8/prema: cal me tmrw, shared details to email 16/8/prema: share details to email, will check n revert 18/8/prema: received your email, i'm looking for ASQ certification\n",
      "1\n"
     ]
    }
   ],
   "source": [
    "print(df[\"Status information\"][1])\n",
    "print(df[\"Status \"][1])"
   ]
  },
  {
   "cell_type": "code",
   "execution_count": 129,
   "id": "45ab9d0b",
   "metadata": {},
   "outputs": [
    {
     "name": "stdout",
     "output_type": "stream",
     "text": [
      "Document 2: \n",
      "Topic  0 :  50.0 %\n",
      "Topic  1 :  50.0 %\n"
     ]
    }
   ],
   "source": [
    "# lets check for document 2\n",
    "print(\"Document 2: \")\n",
    "for i,topic in enumerate(lda_top[2]):\n",
    "  print(\"Topic \",i,\": \",topic*100,\"%\")"
   ]
  },
  {
   "cell_type": "code",
   "execution_count": 130,
   "id": "f00d9d23",
   "metadata": {},
   "outputs": [
    {
     "name": "stdout",
     "output_type": "stream",
     "text": [
      "16|AuG|moHan:rnr\n",
      "0\n"
     ]
    }
   ],
   "source": [
    "print(df[\"Status information\"][2])\n",
    "print(df[\"Status \"][2])"
   ]
  },
  {
   "cell_type": "code",
   "execution_count": 131,
   "id": "d49489d2",
   "metadata": {},
   "outputs": [
    {
     "name": "stdout",
     "output_type": "stream",
     "text": [
      "Document 3: \n",
      "Topic  0 :  22.29398807908741 %\n",
      "Topic  1 :  77.7060119209126 %\n"
     ]
    }
   ],
   "source": [
    "# lets check for document 3\n",
    "print(\"Document 3: \")\n",
    "for i,topic in enumerate(lda_top[3]):\n",
    "  print(\"Topic \",i,\": \",topic*100,\"%\")"
   ]
  },
  {
   "cell_type": "code",
   "execution_count": 132,
   "id": "0d26a5ff",
   "metadata": {},
   "outputs": [
    {
     "name": "stdout",
     "output_type": "stream",
     "text": [
      "14/8/17(Surendra):i want only Server 16|AuG|moHan:cal busy 17|AuG|moHan:reg for server\n",
      "1\n"
     ]
    }
   ],
   "source": [
    "print(df[\"Status information\"][3])\n",
    "print(df[\"Status \"][3])"
   ]
  },
  {
   "cell_type": "code",
   "execution_count": 133,
   "id": "5117cd8c",
   "metadata": {},
   "outputs": [
    {
     "name": "stdout",
     "output_type": "stream",
     "text": [
      "Document 4: \n",
      "Topic  0 :  62.23427300046609 %\n",
      "Topic  1 :  37.76572699953391 %\n"
     ]
    }
   ],
   "source": [
    "# lets check for document 4\n",
    "print(\"Document 4: \")\n",
    "for i,topic in enumerate(lda_top[4]):\n",
    "  print(\"Topic \",i,\": \",topic*100,\"%\")"
   ]
  },
  {
   "cell_type": "code",
   "execution_count": 134,
   "id": "c82fdf62",
   "metadata": {},
   "outputs": [
    {
     "name": "stdout",
     "output_type": "stream",
     "text": [
      "14/8/prema:rnr 16/8/prema: gave info, he said he will revert in 1hr 30/8/prema: planning for next month, share details\n",
      "1\n"
     ]
    }
   ],
   "source": [
    "print(df[\"Status information\"][4])\n",
    "print(df[\"Status \"][4])"
   ]
  },
  {
   "cell_type": "code",
   "execution_count": 135,
   "id": "27913a15",
   "metadata": {},
   "outputs": [],
   "source": [
    "def topic_model():\n",
    "    user_mgs = input(\"Enter your mgs: \")\n",
    "    x = preprocess(user_mgs)\n",
    "    x = cv.transform([x])\n",
    "    lda_x = lda_model.transform(x)\n",
    "    tpic = []\n",
    "    tpc = lambda x : \"not interested\" if x == 0 else \"interested\"\n",
    "    for i,topic in enumerate(lda_x[0]):\n",
    "        print(\"Topic \",i,\": \",topic*100,\"%\")\n",
    "        tpc_name = tpc(i)\n",
    "        prc = topic*100\n",
    "        tpic.append([tpc_name,prc])\n",
    "    return tpic"
   ]
  },
  {
   "cell_type": "code",
   "execution_count": 136,
   "id": "204e3111",
   "metadata": {},
   "outputs": [
    {
     "name": "stdout",
     "output_type": "stream",
     "text": [
      "15/6/17(gowtham)Details shrd 17/6/17(gowtham)RNR 19/6/17(gowtham)cutcall 19/6/17(gowtham)RNR 20/6/17(gowtham)Tim nedded i will tell u\n",
      "0\n"
     ]
    }
   ],
   "source": [
    "print(df[\"Status information\"][600])\n",
    "print(df[\"Status \"][600])"
   ]
  },
  {
   "cell_type": "code",
   "execution_count": 138,
   "id": "dd0d8f99",
   "metadata": {},
   "outputs": [
    {
     "name": "stdout",
     "output_type": "stream",
     "text": [
      "Enter your mgs: 15/6/17(gowtham)Details shrd 17/6/17(gowtham)RNR 19/6/17(gowtham)cutcall 19/6/17(gowtham)RNR 20/6/17(gowtham)Tim nedded i will tell u\n",
      "Topic  0 :  83.08866400064964 %\n",
      "Topic  1 :  16.911335999350346 %\n"
     ]
    }
   ],
   "source": [
    "my_topic = topic_model()"
   ]
  },
  {
   "cell_type": "code",
   "execution_count": 139,
   "id": "4d752ec2",
   "metadata": {},
   "outputs": [
    {
     "name": "stdout",
     "output_type": "stream",
     "text": [
      "12/7/17(prema): unable to connect due to network issue 20/7/17(prema): shared details, will check n revert 24/7/17(prema): cal @ 6pm 25/7/prema: share me demo details if psbl wil attend\n",
      "1\n"
     ]
    }
   ],
   "source": [
    "print(df_upsampled[\"Status information\"][304])\n",
    "print(df_upsampled[\"Status \"][304])"
   ]
  },
  {
   "cell_type": "code",
   "execution_count": 140,
   "id": "652fb820",
   "metadata": {},
   "outputs": [
    {
     "name": "stdout",
     "output_type": "stream",
     "text": [
      "Enter your mgs: 12/7/17(prema): unable to connect due to network issue 20/7/17(prema): shared details, will check n revert 24/7/17(prema): cal @ 6pm 25/7/prema: share me demo details if psbl wil attend\n",
      "Topic  0 :  5.45325277282093 %\n",
      "Topic  1 :  94.54674722717907 %\n"
     ]
    },
    {
     "data": {
      "text/plain": [
       "[['not interested', 5.45325277282093], ['interested', 94.54674722717907]]"
      ]
     },
     "execution_count": 140,
     "metadata": {},
     "output_type": "execute_result"
    }
   ],
   "source": [
    "topic_model()"
   ]
  },
  {
   "cell_type": "markdown",
   "id": "fd1fcd04",
   "metadata": {},
   "source": [
    "# Classification modeling"
   ]
  },
  {
   "cell_type": "code",
   "execution_count": 141,
   "id": "4c4110a8",
   "metadata": {},
   "outputs": [
    {
     "data": {
      "text/html": [
       "<div>\n",
       "<style scoped>\n",
       "    .dataframe tbody tr th:only-of-type {\n",
       "        vertical-align: middle;\n",
       "    }\n",
       "\n",
       "    .dataframe tbody tr th {\n",
       "        vertical-align: top;\n",
       "    }\n",
       "\n",
       "    .dataframe thead th {\n",
       "        text-align: right;\n",
       "    }\n",
       "</style>\n",
       "<table border=\"1\" class=\"dataframe\">\n",
       "  <thead>\n",
       "    <tr style=\"text-align: right;\">\n",
       "      <th></th>\n",
       "      <th>Lead Name</th>\n",
       "      <th>Location</th>\n",
       "      <th>Status</th>\n",
       "      <th>Status information</th>\n",
       "      <th>Country</th>\n",
       "      <th>num_char</th>\n",
       "      <th>num_words</th>\n",
       "      <th>cleaned_txt</th>\n",
       "    </tr>\n",
       "  </thead>\n",
       "  <tbody>\n",
       "    <tr>\n",
       "      <th>0</th>\n",
       "      <td>Raja</td>\n",
       "      <td>16</td>\n",
       "      <td>1</td>\n",
       "      <td>14/8/prema: share me details, available in evn...</td>\n",
       "      <td>india</td>\n",
       "      <td>133</td>\n",
       "      <td>18</td>\n",
       "      <td>share detail available evng postponed plan tra...</td>\n",
       "    </tr>\n",
       "    <tr>\n",
       "      <th>1</th>\n",
       "      <td>Anirudh Reddy</td>\n",
       "      <td>35</td>\n",
       "      <td>1</td>\n",
       "      <td>14/8/prema: cal me tmrw, shared details to ema...</td>\n",
       "      <td>india</td>\n",
       "      <td>171</td>\n",
       "      <td>27</td>\n",
       "      <td>cal tmrw shared detail email share detail emai...</td>\n",
       "    </tr>\n",
       "    <tr>\n",
       "      <th>3</th>\n",
       "      <td>suresh</td>\n",
       "      <td>27</td>\n",
       "      <td>1</td>\n",
       "      <td>14/8/17(Surendra):i want only Server 16|AuG|mo...</td>\n",
       "      <td>india</td>\n",
       "      <td>86</td>\n",
       "      <td>13</td>\n",
       "      <td>want server cal busy reg server</td>\n",
       "    </tr>\n",
       "    <tr>\n",
       "      <th>4</th>\n",
       "      <td>Akshay Shinde</td>\n",
       "      <td>16</td>\n",
       "      <td>1</td>\n",
       "      <td>14/8/prema:rnr 16/8/prema: gave info, he said ...</td>\n",
       "      <td>india</td>\n",
       "      <td>118</td>\n",
       "      <td>19</td>\n",
       "      <td>rnr gave info said revert hr planning next mon...</td>\n",
       "    </tr>\n",
       "    <tr>\n",
       "      <th>5</th>\n",
       "      <td>Karthik</td>\n",
       "      <td>27</td>\n",
       "      <td>1</td>\n",
       "      <td>12/8/17(Surendra):i will check demo(attended d...</td>\n",
       "      <td>india</td>\n",
       "      <td>161</td>\n",
       "      <td>25</td>\n",
       "      <td>check demo attended demo get back think respon...</td>\n",
       "    </tr>\n",
       "  </tbody>\n",
       "</table>\n",
       "</div>"
      ],
      "text/plain": [
       "       Lead Name  Location  Status   \\\n",
       "0           Raja        16        1   \n",
       "1  Anirudh Reddy        35        1   \n",
       "3         suresh        27        1   \n",
       "4  Akshay Shinde        16        1   \n",
       "5        Karthik        27        1   \n",
       "\n",
       "                                  Status information Country  num_char  \\\n",
       "0  14/8/prema: share me details, available in evn...   india       133   \n",
       "1  14/8/prema: cal me tmrw, shared details to ema...   india       171   \n",
       "3  14/8/17(Surendra):i want only Server 16|AuG|mo...   india        86   \n",
       "4  14/8/prema:rnr 16/8/prema: gave info, he said ...   india       118   \n",
       "5  12/8/17(Surendra):i will check demo(attended d...   india       161   \n",
       "\n",
       "   num_words                                        cleaned_txt  \n",
       "0         18  share detail available evng postponed plan tra...  \n",
       "1         27  cal tmrw shared detail email share detail emai...  \n",
       "3         13                    want server cal busy reg server  \n",
       "4         19  rnr gave info said revert hr planning next mon...  \n",
       "5         25  check demo attended demo get back think respon...  "
      ]
     },
     "execution_count": 141,
     "metadata": {},
     "output_type": "execute_result"
    }
   ],
   "source": [
    "df_upsampled.head()"
   ]
  },
  {
   "cell_type": "code",
   "execution_count": 142,
   "id": "5f6156e9",
   "metadata": {},
   "outputs": [],
   "source": [
    "add_col = df_upsampled[\"Location\"].values.reshape(-1,1)"
   ]
  },
  {
   "cell_type": "code",
   "execution_count": 143,
   "id": "61bd3cb7",
   "metadata": {},
   "outputs": [],
   "source": [
    "tf = TfidfVectorizer(max_features=700)\n",
    "vector_txt1 = tf.fit_transform(df_upsampled[\"cleaned_txt\"])"
   ]
  },
  {
   "cell_type": "code",
   "execution_count": 145,
   "id": "8aac802c",
   "metadata": {},
   "outputs": [
    {
     "data": {
      "text/plain": [
       "(1445, 700)"
      ]
     },
     "execution_count": 145,
     "metadata": {},
     "output_type": "execute_result"
    }
   ],
   "source": [
    "vector_txt1.shape"
   ]
  },
  {
   "cell_type": "code",
   "execution_count": 148,
   "id": "4beb4940",
   "metadata": {},
   "outputs": [],
   "source": [
    "X=vector_txt1.toarray()\n",
    "y=df_upsampled[\"Status \"]"
   ]
  },
  {
   "cell_type": "code",
   "execution_count": 150,
   "id": "f3812d86",
   "metadata": {},
   "outputs": [
    {
     "name": "stdout",
     "output_type": "stream",
     "text": [
      "(1156, 700)\n",
      "(289, 700)\n",
      "(1156,)\n",
      "(289,)\n"
     ]
    }
   ],
   "source": [
    "#train,test split\n",
    "from sklearn.model_selection import train_test_split\n",
    "X_train, X_test, y_train,y_test=train_test_split(X,y, test_size=0.2, random_state=20)\n",
    "for i in [X_train,X_test,y_train,y_test]:\n",
    "    print(i.shape)"
   ]
  },
  {
   "cell_type": "code",
   "execution_count": 151,
   "id": "df40632f",
   "metadata": {},
   "outputs": [],
   "source": [
    "from sklearn.metrics import confusion_matrix, classification_report,accuracy_score, precision_score\n",
    "from sklearn.naive_bayes import BernoulliNB, MultinomialNB, GaussianNB\n",
    "from sklearn.svm import SVC\n",
    "from sklearn.ensemble import RandomForestClassifier, AdaBoostClassifier, ExtraTreesClassifier, GradientBoostingClassifier\n",
    "from sklearn.linear_model import LogisticRegression"
   ]
  },
  {
   "cell_type": "code",
   "execution_count": 155,
   "id": "9658462c",
   "metadata": {},
   "outputs": [],
   "source": [
    "results=dict()\n",
    "results[\"Algorithm\"]=[]\n",
    "results[\"Accuracy\"]=[]\n",
    "results[\"Precision\"]=[]\n"
   ]
  },
  {
   "cell_type": "code",
   "execution_count": 156,
   "id": "e7005a6d",
   "metadata": {},
   "outputs": [
    {
     "name": "stdout",
     "output_type": "stream",
     "text": [
      "Algo: BernoulliNB()\n",
      "acc: 0.7681660899653979\n",
      "\n",
      "-------------------------------------------------------\n",
      "[[ 67  47]\n",
      " [ 20 155]]\n",
      "\n",
      "-------------------------------------------------------\n",
      "              precision    recall  f1-score   support\n",
      "\n",
      "           0       0.77      0.59      0.67       114\n",
      "           1       0.77      0.89      0.82       175\n",
      "\n",
      "    accuracy                           0.77       289\n",
      "   macro avg       0.77      0.74      0.74       289\n",
      "weighted avg       0.77      0.77      0.76       289\n",
      "\n",
      "\n",
      "Algo: MultinomialNB()\n",
      "acc: 0.7889273356401384\n",
      "\n",
      "-------------------------------------------------------\n",
      "[[ 70  44]\n",
      " [ 17 158]]\n",
      "\n",
      "-------------------------------------------------------\n",
      "              precision    recall  f1-score   support\n",
      "\n",
      "           0       0.80      0.61      0.70       114\n",
      "           1       0.78      0.90      0.84       175\n",
      "\n",
      "    accuracy                           0.79       289\n",
      "   macro avg       0.79      0.76      0.77       289\n",
      "weighted avg       0.79      0.79      0.78       289\n",
      "\n",
      "\n",
      "Algo: GaussianNB()\n",
      "acc: 0.698961937716263\n",
      "\n",
      "-------------------------------------------------------\n",
      "[[113   1]\n",
      " [ 86  89]]\n",
      "\n",
      "-------------------------------------------------------\n",
      "              precision    recall  f1-score   support\n",
      "\n",
      "           0       0.57      0.99      0.72       114\n",
      "           1       0.99      0.51      0.67       175\n",
      "\n",
      "    accuracy                           0.70       289\n",
      "   macro avg       0.78      0.75      0.70       289\n",
      "weighted avg       0.82      0.70      0.69       289\n",
      "\n",
      "\n"
     ]
    }
   ],
   "source": [
    "for i in [BernoulliNB(), MultinomialNB(), GaussianNB()]:\n",
    "    model = i.fit(X_train, y_train)\n",
    "    y_pred = model.predict(X_test)\n",
    "    acc = accuracy_score(y_test, y_pred)\n",
    "    con_m = confusion_matrix(y_test, y_pred)\n",
    "    c_r = classification_report(y_test, y_pred)\n",
    "    p_s = precision_score(y_test, y_pred)\n",
    "    print(f\"Algo: {i}\")\n",
    "    print(f\"acc: {acc}\\n\")\n",
    "    print(\"-\"*55)\n",
    "    print(f\"{con_m}\\n\")\n",
    "    print(\"-\"*55)\n",
    "    print(f\"{c_r}\\n\")\n",
    "    results[\"Algorithm\"].append(i)\n",
    "    results[\"Accuracy\"].append(acc)\n",
    "    results[\"Precision\"].append(p_s)"
   ]
  },
  {
   "cell_type": "markdown",
   "id": "79a93841",
   "metadata": {},
   "source": [
    "# Ensembling technique"
   ]
  },
  {
   "cell_type": "code",
   "execution_count": 157,
   "id": "b00ef007",
   "metadata": {},
   "outputs": [
    {
     "name": "stdout",
     "output_type": "stream",
     "text": [
      "Algo: ExtraTreesClassifier()\n",
      "acc: 0.9377162629757786\n",
      "\n",
      "-------------------------------------------------------\n",
      "[[112   2]\n",
      " [ 16 159]]\n",
      "\n",
      "-------------------------------------------------------\n",
      "              precision    recall  f1-score   support\n",
      "\n",
      "           0       0.88      0.98      0.93       114\n",
      "           1       0.99      0.91      0.95       175\n",
      "\n",
      "    accuracy                           0.94       289\n",
      "   macro avg       0.93      0.95      0.94       289\n",
      "weighted avg       0.94      0.94      0.94       289\n",
      "\n",
      "\n",
      "Algo: RandomForestClassifier()\n",
      "acc: 0.9273356401384083\n",
      "\n",
      "-------------------------------------------------------\n",
      "[[111   3]\n",
      " [ 18 157]]\n",
      "\n",
      "-------------------------------------------------------\n",
      "              precision    recall  f1-score   support\n",
      "\n",
      "           0       0.86      0.97      0.91       114\n",
      "           1       0.98      0.90      0.94       175\n",
      "\n",
      "    accuracy                           0.93       289\n",
      "   macro avg       0.92      0.94      0.93       289\n",
      "weighted avg       0.93      0.93      0.93       289\n",
      "\n",
      "\n",
      "Algo: AdaBoostClassifier()\n",
      "acc: 0.7439446366782007\n",
      "\n",
      "-------------------------------------------------------\n",
      "[[ 68  46]\n",
      " [ 28 147]]\n",
      "\n",
      "-------------------------------------------------------\n",
      "              precision    recall  f1-score   support\n",
      "\n",
      "           0       0.71      0.60      0.65       114\n",
      "           1       0.76      0.84      0.80       175\n",
      "\n",
      "    accuracy                           0.74       289\n",
      "   macro avg       0.73      0.72      0.72       289\n",
      "weighted avg       0.74      0.74      0.74       289\n",
      "\n",
      "\n",
      "Algo: GradientBoostingClassifier()\n",
      "acc: 0.8235294117647058\n",
      "\n",
      "-------------------------------------------------------\n",
      "[[ 78  36]\n",
      " [ 15 160]]\n",
      "\n",
      "-------------------------------------------------------\n",
      "              precision    recall  f1-score   support\n",
      "\n",
      "           0       0.84      0.68      0.75       114\n",
      "           1       0.82      0.91      0.86       175\n",
      "\n",
      "    accuracy                           0.82       289\n",
      "   macro avg       0.83      0.80      0.81       289\n",
      "weighted avg       0.83      0.82      0.82       289\n",
      "\n",
      "\n"
     ]
    }
   ],
   "source": [
    "for i in [ExtraTreesClassifier(), RandomForestClassifier(), AdaBoostClassifier(), GradientBoostingClassifier()]:\n",
    "    model = i.fit(X_train, y_train)\n",
    "    y_pred = model.predict(X_test)\n",
    "    acc = accuracy_score(y_test, y_pred)\n",
    "    con_m = confusion_matrix(y_test, y_pred)\n",
    "    c_r = classification_report(y_test, y_pred)\n",
    "    p_s = precision_score(y_test, y_pred)\n",
    "    print(f\"Algo: {i}\")\n",
    "    print(f\"acc: {acc}\\n\")\n",
    "    print(\"-\"*55)\n",
    "    print(f\"{con_m}\\n\")\n",
    "    print(\"-\"*55)\n",
    "    print(f\"{c_r}\\n\")\n",
    "    results[\"Algorithm\"].append(i)\n",
    "    results[\"Accuracy\"].append(acc)\n",
    "    results[\"Precision\"].append(p_s)"
   ]
  },
  {
   "cell_type": "markdown",
   "id": "536e75dd",
   "metadata": {},
   "source": [
    "# SMV Classifier & Logistic Reg"
   ]
  },
  {
   "cell_type": "code",
   "execution_count": 159,
   "id": "7e210298",
   "metadata": {},
   "outputs": [
    {
     "name": "stdout",
     "output_type": "stream",
     "text": [
      "Algo: SVC()\n",
      "acc: 0.9100346020761245\n",
      "\n",
      "-------------------------------------------------------\n",
      "[[104  10]\n",
      " [ 16 159]]\n",
      "\n",
      "-------------------------------------------------------\n",
      "              precision    recall  f1-score   support\n",
      "\n",
      "           0       0.87      0.91      0.89       114\n",
      "           1       0.94      0.91      0.92       175\n",
      "\n",
      "    accuracy                           0.91       289\n",
      "   macro avg       0.90      0.91      0.91       289\n",
      "weighted avg       0.91      0.91      0.91       289\n",
      "\n",
      "\n",
      "Algo: LogisticRegression(max_iter=1000)\n",
      "acc: 0.7681660899653979\n",
      "\n",
      "-------------------------------------------------------\n",
      "[[ 80  34]\n",
      " [ 33 142]]\n",
      "\n",
      "-------------------------------------------------------\n",
      "              precision    recall  f1-score   support\n",
      "\n",
      "           0       0.71      0.70      0.70       114\n",
      "           1       0.81      0.81      0.81       175\n",
      "\n",
      "    accuracy                           0.77       289\n",
      "   macro avg       0.76      0.76      0.76       289\n",
      "weighted avg       0.77      0.77      0.77       289\n",
      "\n",
      "\n"
     ]
    }
   ],
   "source": [
    "for i in [SVC(), LogisticRegression(max_iter=1000)]:\n",
    "  model = i.fit(X_train, y_train)\n",
    "  y_pred = model.predict(X_test)\n",
    "  acc = accuracy_score(y_test, y_pred)\n",
    "  con_m = confusion_matrix(y_test, y_pred)\n",
    "  c_r = classification_report(y_test, y_pred)\n",
    "  p_s = precision_score(y_test, y_pred)\n",
    "  print(f\"Algo: {i}\")\n",
    "  print(f\"acc: {acc}\\n\")\n",
    "  print(\"-\"*55)\n",
    "  print(f\"{con_m}\\n\")\n",
    "  print(\"-\"*55)\n",
    "  print(f\"{c_r}\\n\")\n",
    "  results[\"Algorithm\"].append(i)\n",
    "  results[\"Accuracy\"].append(acc)\n",
    "  results[\"Precision\"].append(p_s)"
   ]
  },
  {
   "cell_type": "code",
   "execution_count": 160,
   "id": "91901395",
   "metadata": {},
   "outputs": [
    {
     "data": {
      "text/html": [
       "<div>\n",
       "<style scoped>\n",
       "    .dataframe tbody tr th:only-of-type {\n",
       "        vertical-align: middle;\n",
       "    }\n",
       "\n",
       "    .dataframe tbody tr th {\n",
       "        vertical-align: top;\n",
       "    }\n",
       "\n",
       "    .dataframe thead th {\n",
       "        text-align: right;\n",
       "    }\n",
       "</style>\n",
       "<table border=\"1\" class=\"dataframe\">\n",
       "  <thead>\n",
       "    <tr style=\"text-align: right;\">\n",
       "      <th></th>\n",
       "      <th>Algorithm</th>\n",
       "      <th>Accuracy</th>\n",
       "      <th>Precision</th>\n",
       "    </tr>\n",
       "  </thead>\n",
       "  <tbody>\n",
       "    <tr>\n",
       "      <th>0</th>\n",
       "      <td>BernoulliNB()</td>\n",
       "      <td>0.768166</td>\n",
       "      <td>0.767327</td>\n",
       "    </tr>\n",
       "    <tr>\n",
       "      <th>1</th>\n",
       "      <td>MultinomialNB()</td>\n",
       "      <td>0.788927</td>\n",
       "      <td>0.782178</td>\n",
       "    </tr>\n",
       "    <tr>\n",
       "      <th>2</th>\n",
       "      <td>GaussianNB()</td>\n",
       "      <td>0.698962</td>\n",
       "      <td>0.988889</td>\n",
       "    </tr>\n",
       "    <tr>\n",
       "      <th>3</th>\n",
       "      <td>(ExtraTreeClassifier(random_state=2053384551),...</td>\n",
       "      <td>0.937716</td>\n",
       "      <td>0.987578</td>\n",
       "    </tr>\n",
       "    <tr>\n",
       "      <th>4</th>\n",
       "      <td>(DecisionTreeClassifier(max_features='auto', r...</td>\n",
       "      <td>0.927336</td>\n",
       "      <td>0.981250</td>\n",
       "    </tr>\n",
       "    <tr>\n",
       "      <th>5</th>\n",
       "      <td>(DecisionTreeClassifier(max_depth=1, random_st...</td>\n",
       "      <td>0.743945</td>\n",
       "      <td>0.761658</td>\n",
       "    </tr>\n",
       "    <tr>\n",
       "      <th>6</th>\n",
       "      <td>([DecisionTreeRegressor(criterion='friedman_ms...</td>\n",
       "      <td>0.823529</td>\n",
       "      <td>0.816327</td>\n",
       "    </tr>\n",
       "    <tr>\n",
       "      <th>7</th>\n",
       "      <td>SVC()</td>\n",
       "      <td>0.910035</td>\n",
       "      <td>0.940828</td>\n",
       "    </tr>\n",
       "    <tr>\n",
       "      <th>8</th>\n",
       "      <td>LogisticRegression(max_iter=1000)</td>\n",
       "      <td>0.768166</td>\n",
       "      <td>0.806818</td>\n",
       "    </tr>\n",
       "  </tbody>\n",
       "</table>\n",
       "</div>"
      ],
      "text/plain": [
       "                                           Algorithm  Accuracy  Precision\n",
       "0                                      BernoulliNB()  0.768166   0.767327\n",
       "1                                    MultinomialNB()  0.788927   0.782178\n",
       "2                                       GaussianNB()  0.698962   0.988889\n",
       "3  (ExtraTreeClassifier(random_state=2053384551),...  0.937716   0.987578\n",
       "4  (DecisionTreeClassifier(max_features='auto', r...  0.927336   0.981250\n",
       "5  (DecisionTreeClassifier(max_depth=1, random_st...  0.743945   0.761658\n",
       "6  ([DecisionTreeRegressor(criterion='friedman_ms...  0.823529   0.816327\n",
       "7                                              SVC()  0.910035   0.940828\n",
       "8                  LogisticRegression(max_iter=1000)  0.768166   0.806818"
      ]
     },
     "execution_count": 160,
     "metadata": {},
     "output_type": "execute_result"
    }
   ],
   "source": [
    "pd.DataFrame(results)"
   ]
  },
  {
   "cell_type": "markdown",
   "id": "4cd38990",
   "metadata": {},
   "source": [
    "# Classification system"
   ]
  },
  {
   "cell_type": "code",
   "execution_count": 176,
   "id": "0a7da345",
   "metadata": {},
   "outputs": [
    {
     "name": "stdout",
     "output_type": "stream",
     "text": [
      "Algo: ExtraTreesClassifier()\n",
      "acc: 0.9411764705882353\n",
      "\n",
      "-------------------------------------------------------\n",
      "[[112   2]\n",
      " [ 15 160]]\n",
      "\n",
      "-------------------------------------------------------\n",
      "              precision    recall  f1-score   support\n",
      "\n",
      "           0       0.88      0.98      0.93       114\n",
      "           1       0.99      0.91      0.95       175\n",
      "\n",
      "    accuracy                           0.94       289\n",
      "   macro avg       0.93      0.95      0.94       289\n",
      "weighted avg       0.95      0.94      0.94       289\n",
      "\n",
      "\n"
     ]
    }
   ],
   "source": [
    "  model1 = ExtraTreesClassifier()\n",
    "  model1.fit(X_train, y_train)\n",
    "  y_pred = model1.predict(X_test)\n",
    "  acc = accuracy_score(y_test, y_pred)\n",
    "  con_m = confusion_matrix(y_test, y_pred)\n",
    "  c_r = classification_report(y_test, y_pred)\n",
    "  p_s = precision_score(y_test, y_pred)\n",
    "  print(f\"Algo: {model1}\")\n",
    "  print(f\"acc: {acc}\\n\")\n",
    "  print(\"-\"*55)\n",
    "  print(f\"{con_m}\\n\")\n",
    "  print(\"-\"*55)\n",
    "  print(f\"{c_r}\\n\")"
   ]
  },
  {
   "cell_type": "code",
   "execution_count": 175,
   "id": "c7fa84bc",
   "metadata": {},
   "outputs": [
    {
     "name": "stdout",
     "output_type": "stream",
     "text": [
      "Algo: SVC()\n",
      "acc: 0.9100346020761245\n",
      "\n",
      "-------------------------------------------------------\n",
      "[[104  10]\n",
      " [ 16 159]]\n",
      "\n",
      "-------------------------------------------------------\n",
      "              precision    recall  f1-score   support\n",
      "\n",
      "           0       0.87      0.91      0.89       114\n",
      "           1       0.94      0.91      0.92       175\n",
      "\n",
      "    accuracy                           0.91       289\n",
      "   macro avg       0.90      0.91      0.91       289\n",
      "weighted avg       0.91      0.91      0.91       289\n",
      "\n",
      "\n"
     ]
    }
   ],
   "source": [
    "  model2 = SVC()\n",
    "  model2.fit(X_train, y_train)\n",
    "  y_pred = model2.predict(X_test)\n",
    "  acc = accuracy_score(y_test, y_pred)\n",
    "  con_m = confusion_matrix(y_test, y_pred)\n",
    "  c_r = classification_report(y_test, y_pred)\n",
    "  p_s = precision_score(y_test, y_pred)\n",
    "  print(f\"Algo: {model2}\")\n",
    "  print(f\"acc: {acc}\\n\")\n",
    "  print(\"-\"*55)\n",
    "  print(f\"{con_m}\\n\")\n",
    "  print(\"-\"*55)\n",
    "  print(f\"{c_r}\\n\")"
   ]
  },
  {
   "cell_type": "code",
   "execution_count": 174,
   "id": "25e7b2ba",
   "metadata": {},
   "outputs": [
    {
     "name": "stdout",
     "output_type": "stream",
     "text": [
      "Algo: GaussianNB()\n",
      "acc: 0.698961937716263\n",
      "\n",
      "-------------------------------------------------------\n",
      "[[113   1]\n",
      " [ 86  89]]\n",
      "\n",
      "-------------------------------------------------------\n",
      "              precision    recall  f1-score   support\n",
      "\n",
      "           0       0.57      0.99      0.72       114\n",
      "           1       0.99      0.51      0.67       175\n",
      "\n",
      "    accuracy                           0.70       289\n",
      "   macro avg       0.78      0.75      0.70       289\n",
      "weighted avg       0.82      0.70      0.69       289\n",
      "\n",
      "\n"
     ]
    }
   ],
   "source": [
    "# gaussain NB\n",
    "model3= GaussianNB()\n",
    "model3.fit(X_train, y_train)\n",
    "y_pred = model3.predict(X_test)\n",
    "acc = accuracy_score(y_test, y_pred)\n",
    "con_m = confusion_matrix(y_test, y_pred)\n",
    "c_r = classification_report(y_test, y_pred)\n",
    "p_s = precision_score(y_test, y_pred)\n",
    "print(f\"Algo: {model3}\")\n",
    "print(f\"acc: {acc}\\n\")\n",
    "print(\"-\"*55)\n",
    "print(f\"{con_m}\\n\")\n",
    "print(\"-\"*55)\n",
    "print(f\"{c_r}\\n\")"
   ]
  },
  {
   "cell_type": "code",
   "execution_count": 177,
   "id": "063cd41f",
   "metadata": {},
   "outputs": [
    {
     "name": "stdout",
     "output_type": "stream",
     "text": [
      "Algo: MultinomialNB()\n",
      "acc: 0.7889273356401384\n",
      "\n",
      "-------------------------------------------------------\n",
      "[[ 70  44]\n",
      " [ 17 158]]\n",
      "\n",
      "-------------------------------------------------------\n",
      "              precision    recall  f1-score   support\n",
      "\n",
      "           0       0.80      0.61      0.70       114\n",
      "           1       0.78      0.90      0.84       175\n",
      "\n",
      "    accuracy                           0.79       289\n",
      "   macro avg       0.79      0.76      0.77       289\n",
      "weighted avg       0.79      0.79      0.78       289\n",
      "\n",
      "\n"
     ]
    }
   ],
   "source": [
    "# multinomial\n",
    "model4 = MultinomialNB()\n",
    "model4.fit(X_train, y_train)\n",
    "y_pred = model4.predict(X_test)\n",
    "acc = accuracy_score(y_test, y_pred)\n",
    "con_m = confusion_matrix(y_test, y_pred)\n",
    "c_r = classification_report(y_test, y_pred)\n",
    "p_s = precision_score(y_test, y_pred)\n",
    "print(f\"Algo: {model4}\")\n",
    "print(f\"acc: {acc}\\n\")\n",
    "print(\"-\"*55)\n",
    "print(f\"{con_m}\\n\")\n",
    "print(\"-\"*55)\n",
    "print(f\"{c_r}\\n\")"
   ]
  },
  {
   "cell_type": "code",
   "execution_count": 178,
   "id": "40882176",
   "metadata": {},
   "outputs": [],
   "source": [
    "#classification system\n",
    "def Status(user):\n",
    "  x = user\n",
    "  x = preprocess(x)\n",
    "  x = tf.transform([x])\n",
    "  x = model3.predict(x.toarray())\n",
    "  if x == 1:\n",
    "    return \"Not Convertable\"\n",
    "  else:\n",
    "    return \"Convertable\""
   ]
  },
  {
   "cell_type": "code",
   "execution_count": 179,
   "id": "0d34f2aa",
   "metadata": {},
   "outputs": [
    {
     "name": "stdout",
     "output_type": "stream",
     "text": [
      "15/6/17(gowtham)Details shrd 17/6/17(gowtham)RNR 19/6/17(gowtham)cutcall 19/6/17(gowtham)RNR 20/6/17(gowtham)Tim nedded i will tell u\n"
     ]
    },
    {
     "data": {
      "text/plain": [
       "'Convertable'"
      ]
     },
     "execution_count": 179,
     "metadata": {},
     "output_type": "execute_result"
    }
   ],
   "source": [
    "mgs = input()\n",
    "Status(mgs)"
   ]
  },
  {
   "cell_type": "markdown",
   "id": "cb263a14",
   "metadata": {},
   "source": [
    "# Pickle files"
   ]
  },
  {
   "cell_type": "code",
   "execution_count": 180,
   "id": "27f7dec3",
   "metadata": {},
   "outputs": [],
   "source": [
    "import pickle\n",
    "pickle.dump(cv,open(\"cv_vectorizer.pkl\",\"wb\"))\n",
    "pickle.dump(lda_model, open(\"lda_model.pkl\",\"wb\"))"
   ]
  },
  {
   "cell_type": "code",
   "execution_count": 181,
   "id": "d0052408",
   "metadata": {},
   "outputs": [],
   "source": [
    "pickle.dump(stop_words2,open(\"stop_words2.pkl\",\"wb\"))"
   ]
  },
  {
   "cell_type": "code",
   "execution_count": 182,
   "id": "ffc85636",
   "metadata": {},
   "outputs": [],
   "source": [
    "# pickling for classification POC\n",
    "import pickle\n",
    "pickle.dump(tf, open(\"tf_vectorizer.pkl\",\"wb\"))\n",
    "pickle.dump(model, open(\"XtraTree.pkl\",\"wb\"))"
   ]
  },
  {
   "cell_type": "code",
   "execution_count": null,
   "id": "73b186e3",
   "metadata": {},
   "outputs": [],
   "source": []
  }
 ],
 "metadata": {
  "kernelspec": {
   "display_name": "Python 3 (ipykernel)",
   "language": "python",
   "name": "python3"
  },
  "language_info": {
   "codemirror_mode": {
    "name": "ipython",
    "version": 3
   },
   "file_extension": ".py",
   "mimetype": "text/x-python",
   "name": "python",
   "nbconvert_exporter": "python",
   "pygments_lexer": "ipython3",
   "version": "3.9.13"
  }
 },
 "nbformat": 4,
 "nbformat_minor": 5
}
